{
 "cells": [
  {
   "cell_type": "markdown",
   "metadata": {},
   "source": [
    "# Проект по SQL"
   ]
  },
  {
   "cell_type": "markdown",
   "metadata": {},
   "source": [
    "**Цель исследования:**\\\n",
    "Исследовать базу данных о книгах, издательствах, авторах и пользовательских обзорах с целью формулирования ценностного предложения для нового продукта — приложения для чтения книг по подписке. "
   ]
  },
  {
   "cell_type": "markdown",
   "metadata": {},
   "source": [
    "**Задачи:**\n",
    "- Посчитайте, сколько книг вышло после 1 января 2000 года;\n",
    "- Для каждой книги посчитайте количество обзоров и среднюю оценку;\n",
    "- Определите издательство, которое выпустило наибольшее число книг толще 50 страниц — так вы исключите из анализа брошюры;\n",
    "- Определите автора с самой высокой средней оценкой книг — учитывайте только книги с 50 и более оценками;\n",
    "- Посчитайте среднее количество обзоров от пользователей, которые поставили больше 48 оценок."
   ]
  },
  {
   "cell_type": "markdown",
   "metadata": {},
   "source": [
    "## Откроем файлы с данными и изучим общую информацию."
   ]
  },
  {
   "cell_type": "code",
   "execution_count": 1,
   "metadata": {},
   "outputs": [],
   "source": [
    "# импортируем библиотеки \n",
    "import pandas as pd \n",
    "from sqlalchemy import text, create_engine  \n",
    "\n",
    "# устанавливаем параметры \n",
    "db_config = {'user': 'praktikum_student', # имя пользователя \n",
    "             'pwd': 'Sdf4$2;d-d30pp', # пароль \n",
    "             'host': 'rc1b-wcoijxj3yxfsf3fs.mdb.yandexcloud.net', \n",
    "             'port': 6432, # порт подключения \n",
    "             'db': 'data-analyst-final-project-db'} # название базы данных \n",
    "connection_string = 'postgresql://{user}:{pwd}@{host}:{port}/{db}'.format(**db_config)  \n",
    "\n",
    "# сохраняем коннектор \n",
    "engine = create_engine(connection_string, connect_args={'sslmode':'require'})  "
   ]
  },
  {
   "cell_type": "markdown",
   "metadata": {},
   "source": [
    "### Таблица books"
   ]
  },
  {
   "cell_type": "code",
   "execution_count": 2,
   "metadata": {},
   "outputs": [
    {
     "data": {
      "text/html": [
       "<div>\n",
       "<style scoped>\n",
       "    .dataframe tbody tr th:only-of-type {\n",
       "        vertical-align: middle;\n",
       "    }\n",
       "\n",
       "    .dataframe tbody tr th {\n",
       "        vertical-align: top;\n",
       "    }\n",
       "\n",
       "    .dataframe thead th {\n",
       "        text-align: right;\n",
       "    }\n",
       "</style>\n",
       "<table border=\"1\" class=\"dataframe\">\n",
       "  <thead>\n",
       "    <tr style=\"text-align: right;\">\n",
       "      <th></th>\n",
       "      <th>book_id</th>\n",
       "      <th>author_id</th>\n",
       "      <th>title</th>\n",
       "      <th>num_pages</th>\n",
       "      <th>publication_date</th>\n",
       "      <th>publisher_id</th>\n",
       "    </tr>\n",
       "  </thead>\n",
       "  <tbody>\n",
       "    <tr>\n",
       "      <th>0</th>\n",
       "      <td>1</td>\n",
       "      <td>546</td>\n",
       "      <td>'Salem's Lot</td>\n",
       "      <td>594</td>\n",
       "      <td>2005-11-01</td>\n",
       "      <td>93</td>\n",
       "    </tr>\n",
       "    <tr>\n",
       "      <th>1</th>\n",
       "      <td>2</td>\n",
       "      <td>465</td>\n",
       "      <td>1 000 Places to See Before You Die</td>\n",
       "      <td>992</td>\n",
       "      <td>2003-05-22</td>\n",
       "      <td>336</td>\n",
       "    </tr>\n",
       "    <tr>\n",
       "      <th>2</th>\n",
       "      <td>3</td>\n",
       "      <td>407</td>\n",
       "      <td>13 Little Blue Envelopes (Little Blue Envelope...</td>\n",
       "      <td>322</td>\n",
       "      <td>2010-12-21</td>\n",
       "      <td>135</td>\n",
       "    </tr>\n",
       "    <tr>\n",
       "      <th>3</th>\n",
       "      <td>4</td>\n",
       "      <td>82</td>\n",
       "      <td>1491: New Revelations of the Americas Before C...</td>\n",
       "      <td>541</td>\n",
       "      <td>2006-10-10</td>\n",
       "      <td>309</td>\n",
       "    </tr>\n",
       "    <tr>\n",
       "      <th>4</th>\n",
       "      <td>5</td>\n",
       "      <td>125</td>\n",
       "      <td>1776</td>\n",
       "      <td>386</td>\n",
       "      <td>2006-07-04</td>\n",
       "      <td>268</td>\n",
       "    </tr>\n",
       "  </tbody>\n",
       "</table>\n",
       "</div>"
      ],
      "text/plain": [
       "   book_id  author_id                                              title  \\\n",
       "0        1        546                                       'Salem's Lot   \n",
       "1        2        465                 1 000 Places to See Before You Die   \n",
       "2        3        407  13 Little Blue Envelopes (Little Blue Envelope...   \n",
       "3        4         82  1491: New Revelations of the Americas Before C...   \n",
       "4        5        125                                               1776   \n",
       "\n",
       "   num_pages publication_date  publisher_id  \n",
       "0        594       2005-11-01            93  \n",
       "1        992       2003-05-22           336  \n",
       "2        322       2010-12-21           135  \n",
       "3        541       2006-10-10           309  \n",
       "4        386       2006-07-04           268  "
      ]
     },
     "execution_count": 2,
     "metadata": {},
     "output_type": "execute_result"
    }
   ],
   "source": [
    "query = '''SELECT *\n",
    "FROM books\n",
    "LIMIT 5;\n",
    "'''  \n",
    "con=engine.connect()  \n",
    "pd.io.sql.read_sql(sql=text(query), con = con)"
   ]
  },
  {
   "cell_type": "code",
   "execution_count": 3,
   "metadata": {
    "scrolled": false
   },
   "outputs": [
    {
     "data": {
      "text/html": [
       "<div>\n",
       "<style scoped>\n",
       "    .dataframe tbody tr th:only-of-type {\n",
       "        vertical-align: middle;\n",
       "    }\n",
       "\n",
       "    .dataframe tbody tr th {\n",
       "        vertical-align: top;\n",
       "    }\n",
       "\n",
       "    .dataframe thead th {\n",
       "        text-align: right;\n",
       "    }\n",
       "</style>\n",
       "<table border=\"1\" class=\"dataframe\">\n",
       "  <thead>\n",
       "    <tr style=\"text-align: right;\">\n",
       "      <th></th>\n",
       "      <th>total_books</th>\n",
       "      <th>unique_books</th>\n",
       "      <th>unique_author</th>\n",
       "      <th>unique_titles</th>\n",
       "      <th>page_sum</th>\n",
       "      <th>unique_publication_dates</th>\n",
       "      <th>unique_publishers</th>\n",
       "    </tr>\n",
       "  </thead>\n",
       "  <tbody>\n",
       "    <tr>\n",
       "      <th>0</th>\n",
       "      <td>1000</td>\n",
       "      <td>1000</td>\n",
       "      <td>636</td>\n",
       "      <td>999</td>\n",
       "      <td>389111</td>\n",
       "      <td>618</td>\n",
       "      <td>340</td>\n",
       "    </tr>\n",
       "  </tbody>\n",
       "</table>\n",
       "</div>"
      ],
      "text/plain": [
       "   total_books  unique_books  unique_author  unique_titles  page_sum  \\\n",
       "0         1000          1000            636            999    389111   \n",
       "\n",
       "   unique_publication_dates  unique_publishers  \n",
       "0                       618                340  "
      ]
     },
     "execution_count": 3,
     "metadata": {},
     "output_type": "execute_result"
    }
   ],
   "source": [
    "query = '''SELECT\n",
    "    COUNT(book_id) AS total_books,\n",
    "    COUNT(DISTINCT book_id) AS unique_books,\n",
    "    COUNT(DISTINCT author_id) AS unique_author,\n",
    "    COUNT(DISTINCT title) AS unique_titles,\n",
    "    SUM(num_pages) AS page_sum,\n",
    "    COUNT(DISTINCT publication_date) AS unique_publication_dates,\n",
    "    COUNT(DISTINCT publisher_id) AS unique_publishers\n",
    "FROM books;\n",
    "'''  \n",
    "con=engine.connect()  \n",
    "pd.io.sql.read_sql(sql=text(query), con = con)"
   ]
  },
  {
   "cell_type": "markdown",
   "metadata": {},
   "source": [
    "**Таблица books содержит данные о книгах:**\n",
    "- book_id — идентификатор книги - всего в таблице 1000 значений, все уникальные\n",
    "- author_id — идентификатор автора - 636 авторов\n",
    "- title — название книги - 999 уникальнх названий\n",
    "- num_pages — количество страниц - 389111 страниц книг\n",
    "- publication_date — дата публикации книги - 618 дат публикаций\n",
    "- publisher_id — идентификатор издателя - 340 уникальных издательств"
   ]
  },
  {
   "cell_type": "markdown",
   "metadata": {},
   "source": [
    "### Таблица authors"
   ]
  },
  {
   "cell_type": "code",
   "execution_count": 4,
   "metadata": {
    "scrolled": true
   },
   "outputs": [
    {
     "data": {
      "text/html": [
       "<div>\n",
       "<style scoped>\n",
       "    .dataframe tbody tr th:only-of-type {\n",
       "        vertical-align: middle;\n",
       "    }\n",
       "\n",
       "    .dataframe tbody tr th {\n",
       "        vertical-align: top;\n",
       "    }\n",
       "\n",
       "    .dataframe thead th {\n",
       "        text-align: right;\n",
       "    }\n",
       "</style>\n",
       "<table border=\"1\" class=\"dataframe\">\n",
       "  <thead>\n",
       "    <tr style=\"text-align: right;\">\n",
       "      <th></th>\n",
       "      <th>author_id</th>\n",
       "      <th>author</th>\n",
       "    </tr>\n",
       "  </thead>\n",
       "  <tbody>\n",
       "    <tr>\n",
       "      <th>0</th>\n",
       "      <td>1</td>\n",
       "      <td>A.S. Byatt</td>\n",
       "    </tr>\n",
       "    <tr>\n",
       "      <th>1</th>\n",
       "      <td>2</td>\n",
       "      <td>Aesop/Laura Harris/Laura Gibbs</td>\n",
       "    </tr>\n",
       "    <tr>\n",
       "      <th>2</th>\n",
       "      <td>3</td>\n",
       "      <td>Agatha Christie</td>\n",
       "    </tr>\n",
       "    <tr>\n",
       "      <th>3</th>\n",
       "      <td>4</td>\n",
       "      <td>Alan Brennert</td>\n",
       "    </tr>\n",
       "    <tr>\n",
       "      <th>4</th>\n",
       "      <td>5</td>\n",
       "      <td>Alan Moore/David   Lloyd</td>\n",
       "    </tr>\n",
       "  </tbody>\n",
       "</table>\n",
       "</div>"
      ],
      "text/plain": [
       "   author_id                          author\n",
       "0          1                      A.S. Byatt\n",
       "1          2  Aesop/Laura Harris/Laura Gibbs\n",
       "2          3                 Agatha Christie\n",
       "3          4                   Alan Brennert\n",
       "4          5        Alan Moore/David   Lloyd"
      ]
     },
     "execution_count": 4,
     "metadata": {},
     "output_type": "execute_result"
    }
   ],
   "source": [
    "query = '''SELECT *\n",
    "FROM authors\n",
    "LIMIT 5;\n",
    "'''  \n",
    "con=engine.connect()  \n",
    "pd.io.sql.read_sql(sql=text(query), con = con)"
   ]
  },
  {
   "cell_type": "code",
   "execution_count": 5,
   "metadata": {
    "scrolled": false
   },
   "outputs": [
    {
     "data": {
      "text/html": [
       "<div>\n",
       "<style scoped>\n",
       "    .dataframe tbody tr th:only-of-type {\n",
       "        vertical-align: middle;\n",
       "    }\n",
       "\n",
       "    .dataframe tbody tr th {\n",
       "        vertical-align: top;\n",
       "    }\n",
       "\n",
       "    .dataframe thead th {\n",
       "        text-align: right;\n",
       "    }\n",
       "</style>\n",
       "<table border=\"1\" class=\"dataframe\">\n",
       "  <thead>\n",
       "    <tr style=\"text-align: right;\">\n",
       "      <th></th>\n",
       "      <th>unique_author_id</th>\n",
       "      <th>unique_author</th>\n",
       "    </tr>\n",
       "  </thead>\n",
       "  <tbody>\n",
       "    <tr>\n",
       "      <th>0</th>\n",
       "      <td>636</td>\n",
       "      <td>636</td>\n",
       "    </tr>\n",
       "  </tbody>\n",
       "</table>\n",
       "</div>"
      ],
      "text/plain": [
       "   unique_author_id  unique_author\n",
       "0               636            636"
      ]
     },
     "execution_count": 5,
     "metadata": {},
     "output_type": "execute_result"
    }
   ],
   "source": [
    "query = '''SELECT\n",
    "    COUNT(DISTINCT author_id) AS unique_author_id,\n",
    "    COUNT(DISTINCT author) AS unique_author\n",
    "FROM authors;\n",
    "'''  \n",
    "con=engine.connect()  \n",
    "pd.io.sql.read_sql(sql=text(query), con = con)"
   ]
  },
  {
   "cell_type": "markdown",
   "metadata": {},
   "source": [
    "**Таблица authors содержит данные об авторах:**\n",
    "- author_id — идентификатор автора - 636 уникальных идентификаторов\n",
    "- author — имя автора - 636 авторов"
   ]
  },
  {
   "cell_type": "markdown",
   "metadata": {},
   "source": [
    "### Таблица publishers"
   ]
  },
  {
   "cell_type": "code",
   "execution_count": 6,
   "metadata": {},
   "outputs": [
    {
     "data": {
      "text/html": [
       "<div>\n",
       "<style scoped>\n",
       "    .dataframe tbody tr th:only-of-type {\n",
       "        vertical-align: middle;\n",
       "    }\n",
       "\n",
       "    .dataframe tbody tr th {\n",
       "        vertical-align: top;\n",
       "    }\n",
       "\n",
       "    .dataframe thead th {\n",
       "        text-align: right;\n",
       "    }\n",
       "</style>\n",
       "<table border=\"1\" class=\"dataframe\">\n",
       "  <thead>\n",
       "    <tr style=\"text-align: right;\">\n",
       "      <th></th>\n",
       "      <th>publisher_id</th>\n",
       "      <th>publisher</th>\n",
       "    </tr>\n",
       "  </thead>\n",
       "  <tbody>\n",
       "    <tr>\n",
       "      <th>0</th>\n",
       "      <td>1</td>\n",
       "      <td>Ace</td>\n",
       "    </tr>\n",
       "    <tr>\n",
       "      <th>1</th>\n",
       "      <td>2</td>\n",
       "      <td>Ace Book</td>\n",
       "    </tr>\n",
       "    <tr>\n",
       "      <th>2</th>\n",
       "      <td>3</td>\n",
       "      <td>Ace Books</td>\n",
       "    </tr>\n",
       "    <tr>\n",
       "      <th>3</th>\n",
       "      <td>4</td>\n",
       "      <td>Ace Hardcover</td>\n",
       "    </tr>\n",
       "    <tr>\n",
       "      <th>4</th>\n",
       "      <td>5</td>\n",
       "      <td>Addison Wesley Publishing Company</td>\n",
       "    </tr>\n",
       "  </tbody>\n",
       "</table>\n",
       "</div>"
      ],
      "text/plain": [
       "   publisher_id                          publisher\n",
       "0             1                                Ace\n",
       "1             2                           Ace Book\n",
       "2             3                          Ace Books\n",
       "3             4                      Ace Hardcover\n",
       "4             5  Addison Wesley Publishing Company"
      ]
     },
     "execution_count": 6,
     "metadata": {},
     "output_type": "execute_result"
    }
   ],
   "source": [
    "query = '''SELECT *\n",
    "FROM publishers\n",
    "LIMIT 5;\n",
    "'''  \n",
    "con=engine.connect()  \n",
    "pd.io.sql.read_sql(sql=text(query), con = con)"
   ]
  },
  {
   "cell_type": "code",
   "execution_count": 7,
   "metadata": {
    "scrolled": true
   },
   "outputs": [
    {
     "data": {
      "text/html": [
       "<div>\n",
       "<style scoped>\n",
       "    .dataframe tbody tr th:only-of-type {\n",
       "        vertical-align: middle;\n",
       "    }\n",
       "\n",
       "    .dataframe tbody tr th {\n",
       "        vertical-align: top;\n",
       "    }\n",
       "\n",
       "    .dataframe thead th {\n",
       "        text-align: right;\n",
       "    }\n",
       "</style>\n",
       "<table border=\"1\" class=\"dataframe\">\n",
       "  <thead>\n",
       "    <tr style=\"text-align: right;\">\n",
       "      <th></th>\n",
       "      <th>unique_publisher_id</th>\n",
       "      <th>unique_publisher</th>\n",
       "    </tr>\n",
       "  </thead>\n",
       "  <tbody>\n",
       "    <tr>\n",
       "      <th>0</th>\n",
       "      <td>340</td>\n",
       "      <td>340</td>\n",
       "    </tr>\n",
       "  </tbody>\n",
       "</table>\n",
       "</div>"
      ],
      "text/plain": [
       "   unique_publisher_id  unique_publisher\n",
       "0                  340               340"
      ]
     },
     "execution_count": 7,
     "metadata": {},
     "output_type": "execute_result"
    }
   ],
   "source": [
    "query = '''SELECT\n",
    "    COUNT(DISTINCT publisher_id) AS unique_publisher_id,\n",
    "    COUNT(DISTINCT publisher) AS unique_publisher\n",
    "FROM publishers;\n",
    "'''  \n",
    "con=engine.connect()  \n",
    "pd.io.sql.read_sql(sql=text(query), con = con)"
   ]
  },
  {
   "cell_type": "markdown",
   "metadata": {},
   "source": [
    "**Таблица publishers содержит данные об издательствах:**\n",
    "- publisher_id — идентификатор издательства - 340 уникальных идентификаторов издательств \n",
    "- publisher — название издательства - 340 уникальных издательств"
   ]
  },
  {
   "cell_type": "markdown",
   "metadata": {},
   "source": [
    "### Таблица ratings"
   ]
  },
  {
   "cell_type": "code",
   "execution_count": 8,
   "metadata": {},
   "outputs": [
    {
     "data": {
      "text/html": [
       "<div>\n",
       "<style scoped>\n",
       "    .dataframe tbody tr th:only-of-type {\n",
       "        vertical-align: middle;\n",
       "    }\n",
       "\n",
       "    .dataframe tbody tr th {\n",
       "        vertical-align: top;\n",
       "    }\n",
       "\n",
       "    .dataframe thead th {\n",
       "        text-align: right;\n",
       "    }\n",
       "</style>\n",
       "<table border=\"1\" class=\"dataframe\">\n",
       "  <thead>\n",
       "    <tr style=\"text-align: right;\">\n",
       "      <th></th>\n",
       "      <th>rating_id</th>\n",
       "      <th>book_id</th>\n",
       "      <th>username</th>\n",
       "      <th>rating</th>\n",
       "    </tr>\n",
       "  </thead>\n",
       "  <tbody>\n",
       "    <tr>\n",
       "      <th>0</th>\n",
       "      <td>1</td>\n",
       "      <td>1</td>\n",
       "      <td>ryanfranco</td>\n",
       "      <td>4</td>\n",
       "    </tr>\n",
       "    <tr>\n",
       "      <th>1</th>\n",
       "      <td>2</td>\n",
       "      <td>1</td>\n",
       "      <td>grantpatricia</td>\n",
       "      <td>2</td>\n",
       "    </tr>\n",
       "    <tr>\n",
       "      <th>2</th>\n",
       "      <td>3</td>\n",
       "      <td>1</td>\n",
       "      <td>brandtandrea</td>\n",
       "      <td>5</td>\n",
       "    </tr>\n",
       "    <tr>\n",
       "      <th>3</th>\n",
       "      <td>4</td>\n",
       "      <td>2</td>\n",
       "      <td>lorichen</td>\n",
       "      <td>3</td>\n",
       "    </tr>\n",
       "    <tr>\n",
       "      <th>4</th>\n",
       "      <td>5</td>\n",
       "      <td>2</td>\n",
       "      <td>mariokeller</td>\n",
       "      <td>2</td>\n",
       "    </tr>\n",
       "  </tbody>\n",
       "</table>\n",
       "</div>"
      ],
      "text/plain": [
       "   rating_id  book_id       username  rating\n",
       "0          1        1     ryanfranco       4\n",
       "1          2        1  grantpatricia       2\n",
       "2          3        1   brandtandrea       5\n",
       "3          4        2       lorichen       3\n",
       "4          5        2    mariokeller       2"
      ]
     },
     "execution_count": 8,
     "metadata": {},
     "output_type": "execute_result"
    }
   ],
   "source": [
    "query = '''SELECT *\n",
    "FROM ratings\n",
    "LIMIT 5;\n",
    "'''  \n",
    "con=engine.connect()  \n",
    "pd.io.sql.read_sql(sql=text(query), con = con)"
   ]
  },
  {
   "cell_type": "code",
   "execution_count": 9,
   "metadata": {},
   "outputs": [
    {
     "data": {
      "text/html": [
       "<div>\n",
       "<style scoped>\n",
       "    .dataframe tbody tr th:only-of-type {\n",
       "        vertical-align: middle;\n",
       "    }\n",
       "\n",
       "    .dataframe tbody tr th {\n",
       "        vertical-align: top;\n",
       "    }\n",
       "\n",
       "    .dataframe thead th {\n",
       "        text-align: right;\n",
       "    }\n",
       "</style>\n",
       "<table border=\"1\" class=\"dataframe\">\n",
       "  <thead>\n",
       "    <tr style=\"text-align: right;\">\n",
       "      <th></th>\n",
       "      <th>rating_id</th>\n",
       "      <th>unique_book_id</th>\n",
       "      <th>unique_username</th>\n",
       "      <th>avg_rating</th>\n",
       "    </tr>\n",
       "  </thead>\n",
       "  <tbody>\n",
       "    <tr>\n",
       "      <th>0</th>\n",
       "      <td>6456</td>\n",
       "      <td>1000</td>\n",
       "      <td>160</td>\n",
       "      <td>3.928284</td>\n",
       "    </tr>\n",
       "  </tbody>\n",
       "</table>\n",
       "</div>"
      ],
      "text/plain": [
       "   rating_id  unique_book_id  unique_username  avg_rating\n",
       "0       6456            1000              160    3.928284"
      ]
     },
     "execution_count": 9,
     "metadata": {},
     "output_type": "execute_result"
    }
   ],
   "source": [
    "query = '''SELECT\n",
    "    COUNT(rating_id) AS rating_id,\n",
    "    COUNT(DISTINCT book_id) AS unique_book_id,\n",
    "    COUNT(DISTINCT username) AS unique_username,\n",
    "    AVG(rating) AS avg_rating\n",
    "    \n",
    "FROM ratings;\n",
    "'''  \n",
    "con=engine.connect()  \n",
    "pd.io.sql.read_sql(sql=text(query), con = con)"
   ]
  },
  {
   "cell_type": "markdown",
   "metadata": {},
   "source": [
    "**Таблица ratings содержит данные о пользовательских оценках книг:**\n",
    "- rating_id — идентификатор оценки - 6456 шт\n",
    "- book_id — идентификатор книги - 1000 уникальных значений\n",
    "- username — имя пользователя, оставившего оценку - 160 униказьных пользователей\n",
    "- rating — оценка книги - средняя оценка 3,93"
   ]
  },
  {
   "cell_type": "markdown",
   "metadata": {},
   "source": [
    "### Таблица reviews"
   ]
  },
  {
   "cell_type": "code",
   "execution_count": 10,
   "metadata": {},
   "outputs": [
    {
     "data": {
      "text/html": [
       "<div>\n",
       "<style scoped>\n",
       "    .dataframe tbody tr th:only-of-type {\n",
       "        vertical-align: middle;\n",
       "    }\n",
       "\n",
       "    .dataframe tbody tr th {\n",
       "        vertical-align: top;\n",
       "    }\n",
       "\n",
       "    .dataframe thead th {\n",
       "        text-align: right;\n",
       "    }\n",
       "</style>\n",
       "<table border=\"1\" class=\"dataframe\">\n",
       "  <thead>\n",
       "    <tr style=\"text-align: right;\">\n",
       "      <th></th>\n",
       "      <th>review_id</th>\n",
       "      <th>book_id</th>\n",
       "      <th>username</th>\n",
       "      <th>text</th>\n",
       "    </tr>\n",
       "  </thead>\n",
       "  <tbody>\n",
       "    <tr>\n",
       "      <th>0</th>\n",
       "      <td>1</td>\n",
       "      <td>1</td>\n",
       "      <td>brandtandrea</td>\n",
       "      <td>Mention society tell send professor analysis. ...</td>\n",
       "    </tr>\n",
       "    <tr>\n",
       "      <th>1</th>\n",
       "      <td>2</td>\n",
       "      <td>1</td>\n",
       "      <td>ryanfranco</td>\n",
       "      <td>Foot glass pretty audience hit themselves. Amo...</td>\n",
       "    </tr>\n",
       "    <tr>\n",
       "      <th>2</th>\n",
       "      <td>3</td>\n",
       "      <td>2</td>\n",
       "      <td>lorichen</td>\n",
       "      <td>Listen treat keep worry. Miss husband tax but ...</td>\n",
       "    </tr>\n",
       "    <tr>\n",
       "      <th>3</th>\n",
       "      <td>4</td>\n",
       "      <td>3</td>\n",
       "      <td>johnsonamanda</td>\n",
       "      <td>Finally month interesting blue could nature cu...</td>\n",
       "    </tr>\n",
       "    <tr>\n",
       "      <th>4</th>\n",
       "      <td>5</td>\n",
       "      <td>3</td>\n",
       "      <td>scotttamara</td>\n",
       "      <td>Nation purpose heavy give wait song will. List...</td>\n",
       "    </tr>\n",
       "  </tbody>\n",
       "</table>\n",
       "</div>"
      ],
      "text/plain": [
       "   review_id  book_id       username  \\\n",
       "0          1        1   brandtandrea   \n",
       "1          2        1     ryanfranco   \n",
       "2          3        2       lorichen   \n",
       "3          4        3  johnsonamanda   \n",
       "4          5        3    scotttamara   \n",
       "\n",
       "                                                text  \n",
       "0  Mention society tell send professor analysis. ...  \n",
       "1  Foot glass pretty audience hit themselves. Amo...  \n",
       "2  Listen treat keep worry. Miss husband tax but ...  \n",
       "3  Finally month interesting blue could nature cu...  \n",
       "4  Nation purpose heavy give wait song will. List...  "
      ]
     },
     "execution_count": 10,
     "metadata": {},
     "output_type": "execute_result"
    }
   ],
   "source": [
    "query = '''SELECT *\n",
    "FROM reviews\n",
    "LIMIT 5;\n",
    "'''  \n",
    "con=engine.connect()  \n",
    "pd.io.sql.read_sql(sql=text(query), con = con)"
   ]
  },
  {
   "cell_type": "code",
   "execution_count": 11,
   "metadata": {},
   "outputs": [
    {
     "data": {
      "text/html": [
       "<div>\n",
       "<style scoped>\n",
       "    .dataframe tbody tr th:only-of-type {\n",
       "        vertical-align: middle;\n",
       "    }\n",
       "\n",
       "    .dataframe tbody tr th {\n",
       "        vertical-align: top;\n",
       "    }\n",
       "\n",
       "    .dataframe thead th {\n",
       "        text-align: right;\n",
       "    }\n",
       "</style>\n",
       "<table border=\"1\" class=\"dataframe\">\n",
       "  <thead>\n",
       "    <tr style=\"text-align: right;\">\n",
       "      <th></th>\n",
       "      <th>unique_review_id</th>\n",
       "      <th>unique_book_id</th>\n",
       "      <th>unique_username</th>\n",
       "      <th>count_username</th>\n",
       "      <th>count_text</th>\n",
       "    </tr>\n",
       "  </thead>\n",
       "  <tbody>\n",
       "    <tr>\n",
       "      <th>0</th>\n",
       "      <td>2793</td>\n",
       "      <td>994</td>\n",
       "      <td>160</td>\n",
       "      <td>2793</td>\n",
       "      <td>2793</td>\n",
       "    </tr>\n",
       "  </tbody>\n",
       "</table>\n",
       "</div>"
      ],
      "text/plain": [
       "   unique_review_id  unique_book_id  unique_username  count_username  \\\n",
       "0              2793             994              160            2793   \n",
       "\n",
       "   count_text  \n",
       "0        2793  "
      ]
     },
     "execution_count": 11,
     "metadata": {},
     "output_type": "execute_result"
    }
   ],
   "source": [
    "query = '''SELECT\n",
    "    COUNT(DISTINCT review_id) AS unique_review_id,\n",
    "    COUNT(DISTINCT book_id) AS unique_book_id,\n",
    "    COUNT(DISTINCT username) AS unique_username,\n",
    "    COUNT(username) AS count_username,\n",
    "    COUNT(text) AS count_text\n",
    "    \n",
    "FROM reviews;\n",
    "'''  \n",
    "con=engine.connect()  \n",
    "pd.io.sql.read_sql(sql=text(query), con = con)"
   ]
  },
  {
   "cell_type": "markdown",
   "metadata": {},
   "source": [
    "**Таблица reviews содержит данные о пользовательских обзорах на книги:**\n",
    "- review_id — идентификатор обзора - 2793 уникальных обзора\n",
    "- book_id — идентификатор книги - 994 книги\n",
    "- username — имя пользователя, написавшего обзор - 2793 раза пользователи сделали обзор, из них 160 уникальных пользователей\n",
    "- text — текст обзора - 2793 раза пользователи сделали обзор"
   ]
  },
  {
   "cell_type": "markdown",
   "metadata": {},
   "source": [
    "## Посчитаем, сколько книг вышло после 1 января 2000 года;"
   ]
  },
  {
   "cell_type": "code",
   "execution_count": 12,
   "metadata": {
    "scrolled": false
   },
   "outputs": [
    {
     "data": {
      "text/html": [
       "<div>\n",
       "<style scoped>\n",
       "    .dataframe tbody tr th:only-of-type {\n",
       "        vertical-align: middle;\n",
       "    }\n",
       "\n",
       "    .dataframe tbody tr th {\n",
       "        vertical-align: top;\n",
       "    }\n",
       "\n",
       "    .dataframe thead th {\n",
       "        text-align: right;\n",
       "    }\n",
       "</style>\n",
       "<table border=\"1\" class=\"dataframe\">\n",
       "  <thead>\n",
       "    <tr style=\"text-align: right;\">\n",
       "      <th></th>\n",
       "      <th>count</th>\n",
       "    </tr>\n",
       "  </thead>\n",
       "  <tbody>\n",
       "    <tr>\n",
       "      <th>0</th>\n",
       "      <td>819</td>\n",
       "    </tr>\n",
       "  </tbody>\n",
       "</table>\n",
       "</div>"
      ],
      "text/plain": [
       "   count\n",
       "0    819"
      ]
     },
     "execution_count": 12,
     "metadata": {},
     "output_type": "execute_result"
    }
   ],
   "source": [
    "query = '''SELECT COUNT(book_id)\n",
    "FROM books\n",
    "WHERE publication_date > '2000-01-01';\n",
    "'''  \n",
    "con=engine.connect()  \n",
    "pd.io.sql.read_sql(sql=text(query), con = con)"
   ]
  },
  {
   "cell_type": "markdown",
   "metadata": {},
   "source": [
    "После 1 янаваря 2000 вышло 819 книг"
   ]
  },
  {
   "cell_type": "markdown",
   "metadata": {},
   "source": [
    "## Для каждой книги посчитаем количество обзоров и среднюю оценку;"
   ]
  },
  {
   "cell_type": "code",
   "execution_count": 13,
   "metadata": {
    "scrolled": false
   },
   "outputs": [
    {
     "data": {
      "text/html": [
       "<div>\n",
       "<style scoped>\n",
       "    .dataframe tbody tr th:only-of-type {\n",
       "        vertical-align: middle;\n",
       "    }\n",
       "\n",
       "    .dataframe tbody tr th {\n",
       "        vertical-align: top;\n",
       "    }\n",
       "\n",
       "    .dataframe thead th {\n",
       "        text-align: right;\n",
       "    }\n",
       "</style>\n",
       "<table border=\"1\" class=\"dataframe\">\n",
       "  <thead>\n",
       "    <tr style=\"text-align: right;\">\n",
       "      <th></th>\n",
       "      <th>book_id</th>\n",
       "      <th>title</th>\n",
       "      <th>review_count</th>\n",
       "      <th>average_rating</th>\n",
       "    </tr>\n",
       "  </thead>\n",
       "  <tbody>\n",
       "    <tr>\n",
       "      <th>0</th>\n",
       "      <td>1</td>\n",
       "      <td>'Salem's Lot</td>\n",
       "      <td>2</td>\n",
       "      <td>3.666667</td>\n",
       "    </tr>\n",
       "    <tr>\n",
       "      <th>1</th>\n",
       "      <td>2</td>\n",
       "      <td>1 000 Places to See Before You Die</td>\n",
       "      <td>1</td>\n",
       "      <td>2.500000</td>\n",
       "    </tr>\n",
       "    <tr>\n",
       "      <th>2</th>\n",
       "      <td>3</td>\n",
       "      <td>13 Little Blue Envelopes (Little Blue Envelope...</td>\n",
       "      <td>3</td>\n",
       "      <td>4.666667</td>\n",
       "    </tr>\n",
       "    <tr>\n",
       "      <th>3</th>\n",
       "      <td>4</td>\n",
       "      <td>1491: New Revelations of the Americas Before C...</td>\n",
       "      <td>2</td>\n",
       "      <td>4.500000</td>\n",
       "    </tr>\n",
       "    <tr>\n",
       "      <th>4</th>\n",
       "      <td>5</td>\n",
       "      <td>1776</td>\n",
       "      <td>4</td>\n",
       "      <td>4.000000</td>\n",
       "    </tr>\n",
       "    <tr>\n",
       "      <th>...</th>\n",
       "      <td>...</td>\n",
       "      <td>...</td>\n",
       "      <td>...</td>\n",
       "      <td>...</td>\n",
       "    </tr>\n",
       "    <tr>\n",
       "      <th>995</th>\n",
       "      <td>996</td>\n",
       "      <td>Wyrd Sisters (Discworld  #6; Witches #2)</td>\n",
       "      <td>3</td>\n",
       "      <td>3.666667</td>\n",
       "    </tr>\n",
       "    <tr>\n",
       "      <th>996</th>\n",
       "      <td>997</td>\n",
       "      <td>Xenocide (Ender's Saga  #3)</td>\n",
       "      <td>3</td>\n",
       "      <td>3.400000</td>\n",
       "    </tr>\n",
       "    <tr>\n",
       "      <th>997</th>\n",
       "      <td>998</td>\n",
       "      <td>Year of Wonders</td>\n",
       "      <td>4</td>\n",
       "      <td>3.200000</td>\n",
       "    </tr>\n",
       "    <tr>\n",
       "      <th>998</th>\n",
       "      <td>999</td>\n",
       "      <td>You Suck (A Love Story  #2)</td>\n",
       "      <td>2</td>\n",
       "      <td>4.500000</td>\n",
       "    </tr>\n",
       "    <tr>\n",
       "      <th>999</th>\n",
       "      <td>1000</td>\n",
       "      <td>Zen and the Art of Motorcycle Maintenance: An ...</td>\n",
       "      <td>4</td>\n",
       "      <td>3.833333</td>\n",
       "    </tr>\n",
       "  </tbody>\n",
       "</table>\n",
       "<p>1000 rows × 4 columns</p>\n",
       "</div>"
      ],
      "text/plain": [
       "     book_id                                              title  review_count  \\\n",
       "0          1                                       'Salem's Lot             2   \n",
       "1          2                 1 000 Places to See Before You Die             1   \n",
       "2          3  13 Little Blue Envelopes (Little Blue Envelope...             3   \n",
       "3          4  1491: New Revelations of the Americas Before C...             2   \n",
       "4          5                                               1776             4   \n",
       "..       ...                                                ...           ...   \n",
       "995      996           Wyrd Sisters (Discworld  #6; Witches #2)             3   \n",
       "996      997                        Xenocide (Ender's Saga  #3)             3   \n",
       "997      998                                    Year of Wonders             4   \n",
       "998      999                        You Suck (A Love Story  #2)             2   \n",
       "999     1000  Zen and the Art of Motorcycle Maintenance: An ...             4   \n",
       "\n",
       "     average_rating  \n",
       "0          3.666667  \n",
       "1          2.500000  \n",
       "2          4.666667  \n",
       "3          4.500000  \n",
       "4          4.000000  \n",
       "..              ...  \n",
       "995        3.666667  \n",
       "996        3.400000  \n",
       "997        3.200000  \n",
       "998        4.500000  \n",
       "999        3.833333  \n",
       "\n",
       "[1000 rows x 4 columns]"
      ]
     },
     "execution_count": 13,
     "metadata": {},
     "output_type": "execute_result"
    }
   ],
   "source": [
    "query = '''SELECT\n",
    "    b.book_id,\n",
    "    b.title,\n",
    "    COUNT(DISTINCT r.review_id) AS review_count,\n",
    "    AVG(rt.rating) AS average_rating\n",
    "FROM books b\n",
    "LEFT JOIN reviews r ON b.book_id = r.book_id\n",
    "LEFT JOIN ratings rt ON b.book_id = rt.book_id\n",
    "GROUP BY b.book_id, b.title;\n",
    "\n",
    "'''  \n",
    "con=engine.connect()  \n",
    "pd.io.sql.read_sql(sql=text(query), con = con)"
   ]
  },
  {
   "cell_type": "markdown",
   "metadata": {},
   "source": [
    "## Определим издательство, которое выпустило наибольшее число книг толще 50 страниц — так вы исключите из анализа брошюры;"
   ]
  },
  {
   "cell_type": "code",
   "execution_count": 14,
   "metadata": {
    "scrolled": true
   },
   "outputs": [
    {
     "data": {
      "text/html": [
       "<div>\n",
       "<style scoped>\n",
       "    .dataframe tbody tr th:only-of-type {\n",
       "        vertical-align: middle;\n",
       "    }\n",
       "\n",
       "    .dataframe tbody tr th {\n",
       "        vertical-align: top;\n",
       "    }\n",
       "\n",
       "    .dataframe thead th {\n",
       "        text-align: right;\n",
       "    }\n",
       "</style>\n",
       "<table border=\"1\" class=\"dataframe\">\n",
       "  <thead>\n",
       "    <tr style=\"text-align: right;\">\n",
       "      <th></th>\n",
       "      <th>publisher</th>\n",
       "    </tr>\n",
       "  </thead>\n",
       "  <tbody>\n",
       "    <tr>\n",
       "      <th>0</th>\n",
       "      <td>Penguin Books</td>\n",
       "    </tr>\n",
       "  </tbody>\n",
       "</table>\n",
       "</div>"
      ],
      "text/plain": [
       "       publisher\n",
       "0  Penguin Books"
      ]
     },
     "execution_count": 14,
     "metadata": {},
     "output_type": "execute_result"
    }
   ],
   "source": [
    "query = '''SELECT\n",
    "    p.publisher\n",
    "FROM publishers AS p\n",
    "JOIN books AS b ON p.publisher_id = b.publisher_id\n",
    "WHERE b.num_pages > 50\n",
    "GROUP BY p.publisher_id, p.publisher\n",
    "ORDER BY COUNT(b.book_id) DESC\n",
    "LIMIT 1;\n",
    "'''  \n",
    "con=engine.connect()  \n",
    "pd.io.sql.read_sql(sql=text(query), con = con)"
   ]
  },
  {
   "cell_type": "markdown",
   "metadata": {},
   "source": [
    "Издательство \"Penguin Books\" выпустило наибольшее число книг толще 50 страниц"
   ]
  },
  {
   "cell_type": "markdown",
   "metadata": {},
   "source": [
    "## Определим автора с самой высокой средней оценкой книг — учитываем только книги с 50 и более оценками;"
   ]
  },
  {
   "cell_type": "code",
   "execution_count": 15,
   "metadata": {
    "scrolled": true
   },
   "outputs": [
    {
     "data": {
      "text/html": [
       "<div>\n",
       "<style scoped>\n",
       "    .dataframe tbody tr th:only-of-type {\n",
       "        vertical-align: middle;\n",
       "    }\n",
       "\n",
       "    .dataframe tbody tr th {\n",
       "        vertical-align: top;\n",
       "    }\n",
       "\n",
       "    .dataframe thead th {\n",
       "        text-align: right;\n",
       "    }\n",
       "</style>\n",
       "<table border=\"1\" class=\"dataframe\">\n",
       "  <thead>\n",
       "    <tr style=\"text-align: right;\">\n",
       "      <th></th>\n",
       "      <th>author</th>\n",
       "    </tr>\n",
       "  </thead>\n",
       "  <tbody>\n",
       "    <tr>\n",
       "      <th>0</th>\n",
       "      <td>J.K. Rowling/Mary GrandPré</td>\n",
       "    </tr>\n",
       "  </tbody>\n",
       "</table>\n",
       "</div>"
      ],
      "text/plain": [
       "                       author\n",
       "0  J.K. Rowling/Mary GrandPré"
      ]
     },
     "execution_count": 15,
     "metadata": {},
     "output_type": "execute_result"
    }
   ],
   "source": [
    "query = '''SELECT a.author\n",
    "FROM authors AS a\n",
    "JOIN books AS b ON a.author_id = b.author_id\n",
    "JOIN ratings AS r ON b.book_id = r.book_id\n",
    "WHERE b.book_id IN (\n",
    "    SELECT b.book_id\n",
    "    FROM books AS b\n",
    "    JOIN ratings AS r ON b.book_id = r.book_id\n",
    "    GROUP BY b.book_id\n",
    "    HAVING COUNT(r.rating_id) >= 50\n",
    ")\n",
    "GROUP BY a.author\n",
    "ORDER BY AVG(r.rating) DESC\n",
    "LIMIT 1;\n",
    "\n",
    "'''  \n",
    "con=engine.connect()  \n",
    "pd.io.sql.read_sql(sql=text(query), con = con)"
   ]
  },
  {
   "cell_type": "markdown",
   "metadata": {},
   "source": [
    "Автор с самой высокой средней оценкой книг J.K. Rowling/Mary GrandPré"
   ]
  },
  {
   "cell_type": "markdown",
   "metadata": {},
   "source": [
    "## Посчитаем среднее количество обзоров от пользователей, которые поставили больше 48 оценок."
   ]
  },
  {
   "cell_type": "code",
   "execution_count": 16,
   "metadata": {},
   "outputs": [
    {
     "data": {
      "text/html": [
       "<div>\n",
       "<style scoped>\n",
       "    .dataframe tbody tr th:only-of-type {\n",
       "        vertical-align: middle;\n",
       "    }\n",
       "\n",
       "    .dataframe tbody tr th {\n",
       "        vertical-align: top;\n",
       "    }\n",
       "\n",
       "    .dataframe thead th {\n",
       "        text-align: right;\n",
       "    }\n",
       "</style>\n",
       "<table border=\"1\" class=\"dataframe\">\n",
       "  <thead>\n",
       "    <tr style=\"text-align: right;\">\n",
       "      <th></th>\n",
       "      <th>avg_review_count</th>\n",
       "    </tr>\n",
       "  </thead>\n",
       "  <tbody>\n",
       "    <tr>\n",
       "      <th>0</th>\n",
       "      <td>24.0</td>\n",
       "    </tr>\n",
       "  </tbody>\n",
       "</table>\n",
       "</div>"
      ],
      "text/plain": [
       "   avg_review_count\n",
       "0              24.0"
      ]
     },
     "execution_count": 16,
     "metadata": {},
     "output_type": "execute_result"
    }
   ],
   "source": [
    "query = '''SELECT\n",
    "    AVG(review_count) AS avg_review_count\n",
    "FROM (\n",
    "    SELECT\n",
    "        username,\n",
    "        COUNT(DISTINCT review_id) AS review_count\n",
    "    FROM reviews\n",
    "    WHERE username IN (\n",
    "        SELECT username\n",
    "        FROM ratings\n",
    "        GROUP BY username\n",
    "        HAVING COUNT(rating_id) > 48\n",
    "    )\n",
    "    GROUP BY username\n",
    ") AS user_reviews;\n",
    "'''  \n",
    "con=engine.connect()  \n",
    "pd.io.sql.read_sql(sql=text(query), con = con)"
   ]
  },
  {
   "cell_type": "markdown",
   "metadata": {},
   "source": [
    "Среднее количество обзоров от пользователей, которые поставили больше 48 оценок составляет 24 шт."
   ]
  },
  {
   "cell_type": "markdown",
   "metadata": {},
   "source": [
    "## Вывод"
   ]
  },
  {
   "cell_type": "markdown",
   "metadata": {},
   "source": [
    "**Вывод:**\n",
    "- После 1 янаваря 2000 вышло 819 книг\n",
    "- Издательство \"Penguin Books\" выпустило наибольшее число книг толще 50 страниц\n",
    "- Автор с самой высокой средней оценкой книг J.K. Rowling/Mary GrandPré\n",
    "- Среднее количество обзоров от пользователей, которые поставили больше 48 оценок составляет 24 шт."
   ]
  },
  {
   "cell_type": "markdown",
   "metadata": {},
   "source": [
    "**Рекомендации на основе результатов и цели:**\n",
    "\n",
    "- Учитывая, что после 1 января 2000 года вышло 819 книг, рекомендуется активно обновлять библиотеку, включая новые издания и популярные работы, чтобы привлекать читателей.\n",
    "\n",
    "- Издательство \"Penguin Books\" является лидером по выпуску книг толще 50 страниц. Рекомендуется углубленное сотрудничество с этим издательством.\n",
    "\n",
    "- Автор J.K. Rowling/Mary GrandPré обладает самой высокой средней оценкой книг. Рекомендуется акцентировать внимание на работах этого автора и поддерживать сотрудничество с ним, а также обращать внимание на других авторов с высоким рейтингом.\n",
    "\n",
    "- Учитывая, что среднее количество обзоров от пользователей, которые поставили более 48 оценок, составляет 24 шт., рекомендуется создать персонализированные предложения, стимулирующие пользователей активно оценивать и обзоривать книги.\n",
    "\n",
    "- Используйте данные об оценках и обзорах для создания эффективных систем рекомендаций, которые учитывают предпочтения читателей, основываясь на популярности книг, издательствах и авторах."
   ]
  }
 ],
 "metadata": {
  "ExecuteTimeLog": [
   {
    "duration": 5608,
    "start_time": "2023-12-15T14:04:43.894Z"
   },
   {
    "duration": 37,
    "start_time": "2023-12-15T14:06:29.643Z"
   },
   {
    "duration": 30,
    "start_time": "2023-12-15T14:07:15.312Z"
   },
   {
    "duration": 3,
    "start_time": "2023-12-15T21:36:26.620Z"
   },
   {
    "duration": 4,
    "start_time": "2023-12-15T21:36:37.478Z"
   },
   {
    "duration": 48,
    "start_time": "2023-12-15T21:36:40.909Z"
   },
   {
    "duration": 25,
    "start_time": "2023-12-15T21:36:50.921Z"
   },
   {
    "duration": 11,
    "start_time": "2023-12-15T21:37:34.049Z"
   },
   {
    "duration": 3,
    "start_time": "2023-12-15T21:37:56.220Z"
   },
   {
    "duration": 28,
    "start_time": "2023-12-15T21:38:22.139Z"
   },
   {
    "duration": 13,
    "start_time": "2023-12-15T21:39:48.052Z"
   },
   {
    "duration": 12,
    "start_time": "2023-12-15T21:42:57.902Z"
   },
   {
    "duration": 12,
    "start_time": "2023-12-15T21:43:03.391Z"
   },
   {
    "duration": 11,
    "start_time": "2023-12-15T21:43:21.617Z"
   },
   {
    "duration": 11,
    "start_time": "2023-12-15T21:43:51.368Z"
   },
   {
    "duration": 16,
    "start_time": "2023-12-15T21:44:54.853Z"
   },
   {
    "duration": 15,
    "start_time": "2023-12-15T21:46:46.959Z"
   },
   {
    "duration": 29,
    "start_time": "2023-12-15T21:46:52.527Z"
   },
   {
    "duration": 14,
    "start_time": "2023-12-15T21:47:02.106Z"
   },
   {
    "duration": 86,
    "start_time": "2023-12-15T21:47:27.982Z"
   },
   {
    "duration": 13,
    "start_time": "2023-12-15T21:47:36.136Z"
   },
   {
    "duration": 37,
    "start_time": "2023-12-15T21:48:35.752Z"
   },
   {
    "duration": 11,
    "start_time": "2023-12-15T21:48:48.293Z"
   },
   {
    "duration": 15,
    "start_time": "2023-12-15T21:50:00.064Z"
   },
   {
    "duration": 10,
    "start_time": "2023-12-15T21:57:56.903Z"
   },
   {
    "duration": 14,
    "start_time": "2023-12-15T21:58:02.022Z"
   },
   {
    "duration": 10,
    "start_time": "2023-12-15T21:59:47.933Z"
   },
   {
    "duration": 13,
    "start_time": "2023-12-15T22:01:45.008Z"
   },
   {
    "duration": 13,
    "start_time": "2023-12-15T22:02:40.331Z"
   },
   {
    "duration": 2,
    "start_time": "2023-12-15T22:04:22.936Z"
   },
   {
    "duration": 12,
    "start_time": "2023-12-15T22:04:41.529Z"
   },
   {
    "duration": 11,
    "start_time": "2023-12-15T22:06:15.081Z"
   },
   {
    "duration": 10,
    "start_time": "2023-12-15T22:07:25.936Z"
   },
   {
    "duration": 13,
    "start_time": "2023-12-15T22:09:11.216Z"
   },
   {
    "duration": 13,
    "start_time": "2023-12-15T22:09:24.630Z"
   },
   {
    "duration": 15,
    "start_time": "2023-12-15T22:09:32.737Z"
   },
   {
    "duration": 10,
    "start_time": "2023-12-15T22:10:13.686Z"
   },
   {
    "duration": 12,
    "start_time": "2023-12-15T22:11:08.129Z"
   },
   {
    "duration": 14,
    "start_time": "2023-12-15T22:17:03.405Z"
   },
   {
    "duration": 3,
    "start_time": "2023-12-15T22:18:11.223Z"
   },
   {
    "duration": 13,
    "start_time": "2023-12-15T22:18:28.313Z"
   },
   {
    "duration": 13,
    "start_time": "2023-12-15T22:19:14.593Z"
   },
   {
    "duration": 13,
    "start_time": "2023-12-15T22:24:07.336Z"
   },
   {
    "duration": 14,
    "start_time": "2023-12-15T22:24:10.005Z"
   },
   {
    "duration": 16,
    "start_time": "2023-12-15T22:30:12.514Z"
   },
   {
    "duration": 13,
    "start_time": "2023-12-15T22:30:40.021Z"
   },
   {
    "duration": 14,
    "start_time": "2023-12-15T22:30:46.179Z"
   },
   {
    "duration": 13,
    "start_time": "2023-12-15T22:32:40.371Z"
   },
   {
    "duration": 14,
    "start_time": "2023-12-15T22:33:38.116Z"
   },
   {
    "duration": 14,
    "start_time": "2023-12-15T22:35:57.271Z"
   },
   {
    "duration": 10,
    "start_time": "2023-12-15T22:37:21.547Z"
   },
   {
    "duration": 5238,
    "start_time": "2023-12-15T22:37:52.916Z"
   },
   {
    "duration": 49,
    "start_time": "2023-12-15T22:37:58.155Z"
   },
   {
    "duration": 40,
    "start_time": "2023-12-15T22:37:58.206Z"
   },
   {
    "duration": 9,
    "start_time": "2023-12-15T22:37:58.248Z"
   },
   {
    "duration": 9,
    "start_time": "2023-12-15T22:37:58.259Z"
   },
   {
    "duration": 9,
    "start_time": "2023-12-15T22:37:58.270Z"
   },
   {
    "duration": 9,
    "start_time": "2023-12-15T22:37:58.280Z"
   },
   {
    "duration": 10,
    "start_time": "2023-12-15T22:37:58.291Z"
   },
   {
    "duration": 22,
    "start_time": "2023-12-15T22:37:58.302Z"
   },
   {
    "duration": 11,
    "start_time": "2023-12-15T22:37:58.327Z"
   },
   {
    "duration": 23,
    "start_time": "2023-12-15T22:37:58.339Z"
   },
   {
    "duration": 8,
    "start_time": "2023-12-15T22:37:58.364Z"
   },
   {
    "duration": 27,
    "start_time": "2023-12-15T22:37:58.374Z"
   },
   {
    "duration": 10,
    "start_time": "2023-12-15T22:37:58.402Z"
   },
   {
    "duration": 12,
    "start_time": "2023-12-15T22:37:58.414Z"
   },
   {
    "duration": 12,
    "start_time": "2023-12-15T22:37:58.428Z"
   },
   {
    "duration": 85,
    "start_time": "2023-12-15T22:41:52.921Z"
   },
   {
    "duration": 10,
    "start_time": "2023-12-15T22:42:01.534Z"
   },
   {
    "duration": 33,
    "start_time": "2023-12-15T22:42:06.872Z"
   },
   {
    "duration": 53,
    "start_time": "2023-12-15T22:48:59.540Z"
   },
   {
    "duration": 16,
    "start_time": "2023-12-15T23:05:54.547Z"
   },
   {
    "duration": 18,
    "start_time": "2023-12-15T23:05:59.366Z"
   },
   {
    "duration": 13,
    "start_time": "2023-12-15T23:06:16.794Z"
   },
   {
    "duration": 14,
    "start_time": "2023-12-15T23:06:24.333Z"
   },
   {
    "duration": 5814,
    "start_time": "2023-12-15T23:06:35.420Z"
   },
   {
    "duration": 53,
    "start_time": "2023-12-15T23:06:41.236Z"
   },
   {
    "duration": 31,
    "start_time": "2023-12-15T23:06:41.291Z"
   },
   {
    "duration": 10,
    "start_time": "2023-12-15T23:06:41.324Z"
   },
   {
    "duration": 16,
    "start_time": "2023-12-15T23:06:41.336Z"
   },
   {
    "duration": 10,
    "start_time": "2023-12-15T23:06:41.354Z"
   },
   {
    "duration": 38,
    "start_time": "2023-12-15T23:06:41.366Z"
   },
   {
    "duration": 17,
    "start_time": "2023-12-15T23:06:41.406Z"
   },
   {
    "duration": 19,
    "start_time": "2023-12-15T23:06:41.425Z"
   },
   {
    "duration": 12,
    "start_time": "2023-12-15T23:06:41.447Z"
   },
   {
    "duration": 14,
    "start_time": "2023-12-15T23:06:41.460Z"
   },
   {
    "duration": 10,
    "start_time": "2023-12-15T23:06:41.476Z"
   },
   {
    "duration": 40,
    "start_time": "2023-12-15T23:06:41.487Z"
   },
   {
    "duration": 11,
    "start_time": "2023-12-15T23:06:41.529Z"
   },
   {
    "duration": 16,
    "start_time": "2023-12-15T23:06:41.541Z"
   },
   {
    "duration": 12,
    "start_time": "2023-12-15T23:06:41.559Z"
   },
   {
    "duration": 8482,
    "start_time": "2023-12-16T11:18:25.572Z"
   },
   {
    "duration": 229,
    "start_time": "2023-12-16T11:18:34.055Z"
   },
   {
    "duration": 129,
    "start_time": "2023-12-16T11:18:34.285Z"
   },
   {
    "duration": 49,
    "start_time": "2023-12-16T11:18:34.416Z"
   },
   {
    "duration": 52,
    "start_time": "2023-12-16T11:18:34.466Z"
   },
   {
    "duration": 51,
    "start_time": "2023-12-16T11:18:34.519Z"
   },
   {
    "duration": 51,
    "start_time": "2023-12-16T11:18:34.571Z"
   },
   {
    "duration": 50,
    "start_time": "2023-12-16T11:18:34.623Z"
   },
   {
    "duration": 55,
    "start_time": "2023-12-16T11:18:34.674Z"
   },
   {
    "duration": 51,
    "start_time": "2023-12-16T11:18:34.730Z"
   },
   {
    "duration": 53,
    "start_time": "2023-12-16T11:18:34.782Z"
   },
   {
    "duration": 50,
    "start_time": "2023-12-16T11:18:34.836Z"
   },
   {
    "duration": 82,
    "start_time": "2023-12-16T11:18:34.887Z"
   },
   {
    "duration": 52,
    "start_time": "2023-12-16T11:18:34.970Z"
   },
   {
    "duration": 53,
    "start_time": "2023-12-16T11:18:35.023Z"
   },
   {
    "duration": 53,
    "start_time": "2023-12-16T11:18:35.078Z"
   },
   {
    "duration": 5137,
    "start_time": "2023-12-16T18:38:18.945Z"
   },
   {
    "duration": 54,
    "start_time": "2023-12-16T18:38:24.083Z"
   },
   {
    "duration": 42,
    "start_time": "2023-12-16T18:38:24.138Z"
   },
   {
    "duration": 9,
    "start_time": "2023-12-16T18:38:24.182Z"
   },
   {
    "duration": 10,
    "start_time": "2023-12-16T18:38:24.193Z"
   },
   {
    "duration": 14,
    "start_time": "2023-12-16T18:38:24.205Z"
   },
   {
    "duration": 9,
    "start_time": "2023-12-16T18:38:24.221Z"
   },
   {
    "duration": 9,
    "start_time": "2023-12-16T18:38:24.231Z"
   },
   {
    "duration": 13,
    "start_time": "2023-12-16T18:38:24.242Z"
   },
   {
    "duration": 10,
    "start_time": "2023-12-16T18:38:24.257Z"
   },
   {
    "duration": 11,
    "start_time": "2023-12-16T18:38:24.268Z"
   },
   {
    "duration": 26,
    "start_time": "2023-12-16T18:38:24.280Z"
   },
   {
    "duration": 27,
    "start_time": "2023-12-16T18:38:24.309Z"
   },
   {
    "duration": 13,
    "start_time": "2023-12-16T18:38:24.338Z"
   },
   {
    "duration": 12,
    "start_time": "2023-12-16T18:38:24.353Z"
   },
   {
    "duration": 11,
    "start_time": "2023-12-16T18:38:24.366Z"
   },
   {
    "duration": 17,
    "start_time": "2023-12-16T18:42:06.634Z"
   },
   {
    "duration": 43,
    "start_time": "2023-12-16T18:45:16.694Z"
   },
   {
    "duration": 54,
    "start_time": "2023-12-16T18:45:32.518Z"
   },
   {
    "duration": 52,
    "start_time": "2023-12-16T18:46:04.442Z"
   },
   {
    "duration": 50,
    "start_time": "2023-12-16T18:46:27.427Z"
   },
   {
    "duration": 14,
    "start_time": "2023-12-16T18:47:17.277Z"
   },
   {
    "duration": 14,
    "start_time": "2023-12-16T18:47:32.299Z"
   },
   {
    "duration": 82,
    "start_time": "2023-12-16T18:48:07.156Z"
   },
   {
    "duration": 14,
    "start_time": "2023-12-16T18:48:12.131Z"
   },
   {
    "duration": 40,
    "start_time": "2023-12-16T18:48:41.977Z"
   },
   {
    "duration": 15,
    "start_time": "2023-12-16T18:49:08.142Z"
   },
   {
    "duration": 42,
    "start_time": "2023-12-16T18:49:17.758Z"
   },
   {
    "duration": 15,
    "start_time": "2023-12-16T18:50:22.608Z"
   },
   {
    "duration": 15,
    "start_time": "2023-12-16T18:53:01.671Z"
   },
   {
    "duration": 15,
    "start_time": "2023-12-16T18:53:46.786Z"
   },
   {
    "duration": 16,
    "start_time": "2023-12-16T18:54:59.845Z"
   },
   {
    "duration": 5088,
    "start_time": "2023-12-16T18:55:25.716Z"
   },
   {
    "duration": 55,
    "start_time": "2023-12-16T18:55:30.806Z"
   },
   {
    "duration": 39,
    "start_time": "2023-12-16T18:55:30.862Z"
   },
   {
    "duration": 9,
    "start_time": "2023-12-16T18:55:30.903Z"
   },
   {
    "duration": 33,
    "start_time": "2023-12-16T18:55:30.914Z"
   },
   {
    "duration": 40,
    "start_time": "2023-12-16T18:55:30.948Z"
   },
   {
    "duration": 29,
    "start_time": "2023-12-16T18:55:30.989Z"
   },
   {
    "duration": 53,
    "start_time": "2023-12-16T18:55:31.019Z"
   },
   {
    "duration": 49,
    "start_time": "2023-12-16T18:55:31.074Z"
   },
   {
    "duration": 29,
    "start_time": "2023-12-16T18:55:31.127Z"
   },
   {
    "duration": 31,
    "start_time": "2023-12-16T18:55:31.158Z"
   },
   {
    "duration": 22,
    "start_time": "2023-12-16T18:55:31.191Z"
   },
   {
    "duration": 27,
    "start_time": "2023-12-16T18:55:31.215Z"
   },
   {
    "duration": 17,
    "start_time": "2023-12-16T18:55:31.244Z"
   },
   {
    "duration": 29,
    "start_time": "2023-12-16T18:55:31.263Z"
   },
   {
    "duration": 37,
    "start_time": "2023-12-16T18:55:31.294Z"
   }
  ],
  "kernelspec": {
   "display_name": "Python 3 (ipykernel)",
   "language": "python",
   "name": "python3"
  },
  "language_info": {
   "codemirror_mode": {
    "name": "ipython",
    "version": 3
   },
   "file_extension": ".py",
   "mimetype": "text/x-python",
   "name": "python",
   "nbconvert_exporter": "python",
   "pygments_lexer": "ipython3",
   "version": "3.9.5"
  },
  "toc": {
   "base_numbering": 1,
   "nav_menu": {},
   "number_sections": true,
   "sideBar": true,
   "skip_h1_title": true,
   "title_cell": "Table of Contents",
   "title_sidebar": "Contents",
   "toc_cell": false,
   "toc_position": {
    "height": "calc(100% - 180px)",
    "left": "10px",
    "top": "150px",
    "width": "290.434px"
   },
   "toc_section_display": true,
   "toc_window_display": true
  }
 },
 "nbformat": 4,
 "nbformat_minor": 2
}
