{
 "cells": [
  {
   "cell_type": "markdown",
   "metadata": {},
   "source": [
    "# Принятие решений в бизнесе\n",
    "**Часть 1. Приоритизация гипотез.**\\\n",
    "Мы имеем 9 гипотез по увеличению выручки интернет-магазина. Необходимо приоритизировать гипотезы, запустить A/B-тест и проанализировать результаты.\\\n",
    "**Для принятия решения необходимо**\n",
    "- Проверить приоритизации гипотез применив фреймворк ICE\n",
    "- роверить приоритизации гипотез применив фреймворк RICE\n",
    "\n",
    "**Часть 2. Анализ A/B-теста**\\\n",
    "Мы имеем результаты А/В теста, которые описаны в файлах /datasets/orders.csv и /datasets/visitors.csv. Необходимо проанализировать A/B-тест и приянть решение:\n",
    "- Остановить тест, зафиксировать победу одной из групп\n",
    "- Остановить тест, зафиксировать отсутствие различий между группами\n",
    "- Продолжить тест.\n",
    "\n",
    "**Для принятия решения необходимо:**\n",
    "- Сравнить изменения выручки по группам\n",
    "- Сравнить изменения среднего чека по группам\n",
    "- Проверить данные на аномальные показатели\n",
    "- Выявить влияют ли аномальные показатели на результат\n",
    "- Сравнить статистическую значимость различий в среднем количестве заказов и среднем чеке\n"
   ]
  },
  {
   "cell_type": "markdown",
   "metadata": {},
   "source": [
    "# Часть 1. Приоритизация гипотез."
   ]
  },
  {
   "cell_type": "markdown",
   "metadata": {},
   "source": [
    "### Загрузка данных и подготовка их к анализу\n"
   ]
  },
  {
   "cell_type": "code",
   "execution_count": 1,
   "metadata": {},
   "outputs": [],
   "source": [
    "# Импорт необходимых библиотек\n",
    "import pandas as pd\n",
    "pd.options.display.max_colwidth = 130"
   ]
  },
  {
   "cell_type": "code",
   "execution_count": 2,
   "metadata": {},
   "outputs": [],
   "source": [
    "# Загрузим данные\n",
    "hypothesis = pd.read_csv('/datasets/hypothesis.csv')"
   ]
  },
  {
   "cell_type": "code",
   "execution_count": 3,
   "metadata": {
    "scrolled": true
   },
   "outputs": [
    {
     "data": {
      "text/html": [
       "<div>\n",
       "<style scoped>\n",
       "    .dataframe tbody tr th:only-of-type {\n",
       "        vertical-align: middle;\n",
       "    }\n",
       "\n",
       "    .dataframe tbody tr th {\n",
       "        vertical-align: top;\n",
       "    }\n",
       "\n",
       "    .dataframe thead th {\n",
       "        text-align: right;\n",
       "    }\n",
       "</style>\n",
       "<table border=\"1\" class=\"dataframe\">\n",
       "  <thead>\n",
       "    <tr style=\"text-align: right;\">\n",
       "      <th></th>\n",
       "      <th>Hypothesis</th>\n",
       "      <th>Reach</th>\n",
       "      <th>Impact</th>\n",
       "      <th>Confidence</th>\n",
       "      <th>Efforts</th>\n",
       "    </tr>\n",
       "  </thead>\n",
       "  <tbody>\n",
       "    <tr>\n",
       "      <th>0</th>\n",
       "      <td>Добавить два новых канала привлечения трафика, что позволит привлекать на 30% больше пользователей</td>\n",
       "      <td>3</td>\n",
       "      <td>10</td>\n",
       "      <td>8</td>\n",
       "      <td>6</td>\n",
       "    </tr>\n",
       "    <tr>\n",
       "      <th>1</th>\n",
       "      <td>Запустить собственную службу доставки, что сократит срок доставки заказов</td>\n",
       "      <td>2</td>\n",
       "      <td>5</td>\n",
       "      <td>4</td>\n",
       "      <td>10</td>\n",
       "    </tr>\n",
       "    <tr>\n",
       "      <th>2</th>\n",
       "      <td>Добавить блоки рекомендаций товаров на сайт интернет магазина, чтобы повысить конверсию и средний чек заказа</td>\n",
       "      <td>8</td>\n",
       "      <td>3</td>\n",
       "      <td>7</td>\n",
       "      <td>3</td>\n",
       "    </tr>\n",
       "    <tr>\n",
       "      <th>3</th>\n",
       "      <td>Изменить структура категорий, что увеличит конверсию, т.к. пользователи быстрее найдут нужный товар</td>\n",
       "      <td>8</td>\n",
       "      <td>3</td>\n",
       "      <td>3</td>\n",
       "      <td>8</td>\n",
       "    </tr>\n",
       "    <tr>\n",
       "      <th>4</th>\n",
       "      <td>Изменить цвет фона главной страницы, чтобы увеличить вовлеченность пользователей</td>\n",
       "      <td>3</td>\n",
       "      <td>1</td>\n",
       "      <td>1</td>\n",
       "      <td>1</td>\n",
       "    </tr>\n",
       "    <tr>\n",
       "      <th>5</th>\n",
       "      <td>Добавить страницу отзывов клиентов о магазине, что позволит увеличить количество заказов</td>\n",
       "      <td>3</td>\n",
       "      <td>2</td>\n",
       "      <td>2</td>\n",
       "      <td>3</td>\n",
       "    </tr>\n",
       "    <tr>\n",
       "      <th>6</th>\n",
       "      <td>Показать на главной странице баннеры с актуальными акциями и распродажами, чтобы увеличить конверсию</td>\n",
       "      <td>5</td>\n",
       "      <td>3</td>\n",
       "      <td>8</td>\n",
       "      <td>3</td>\n",
       "    </tr>\n",
       "    <tr>\n",
       "      <th>7</th>\n",
       "      <td>Добавить форму подписки на все основные страницы, чтобы собрать базу клиентов для email-рассылок</td>\n",
       "      <td>10</td>\n",
       "      <td>7</td>\n",
       "      <td>8</td>\n",
       "      <td>5</td>\n",
       "    </tr>\n",
       "    <tr>\n",
       "      <th>8</th>\n",
       "      <td>Запустить акцию, дающую скидку на товар в день рождения</td>\n",
       "      <td>1</td>\n",
       "      <td>9</td>\n",
       "      <td>9</td>\n",
       "      <td>5</td>\n",
       "    </tr>\n",
       "  </tbody>\n",
       "</table>\n",
       "</div>"
      ],
      "text/plain": [
       "                                                                                                     Hypothesis  \\\n",
       "0            Добавить два новых канала привлечения трафика, что позволит привлекать на 30% больше пользователей   \n",
       "1                                     Запустить собственную службу доставки, что сократит срок доставки заказов   \n",
       "2  Добавить блоки рекомендаций товаров на сайт интернет магазина, чтобы повысить конверсию и средний чек заказа   \n",
       "3           Изменить структура категорий, что увеличит конверсию, т.к. пользователи быстрее найдут нужный товар   \n",
       "4                              Изменить цвет фона главной страницы, чтобы увеличить вовлеченность пользователей   \n",
       "5                      Добавить страницу отзывов клиентов о магазине, что позволит увеличить количество заказов   \n",
       "6          Показать на главной странице баннеры с актуальными акциями и распродажами, чтобы увеличить конверсию   \n",
       "7              Добавить форму подписки на все основные страницы, чтобы собрать базу клиентов для email-рассылок   \n",
       "8                                                       Запустить акцию, дающую скидку на товар в день рождения   \n",
       "\n",
       "   Reach  Impact  Confidence  Efforts  \n",
       "0      3      10           8        6  \n",
       "1      2       5           4       10  \n",
       "2      8       3           7        3  \n",
       "3      8       3           3        8  \n",
       "4      3       1           1        1  \n",
       "5      3       2           2        3  \n",
       "6      5       3           8        3  \n",
       "7     10       7           8        5  \n",
       "8      1       9           9        5  "
      ]
     },
     "execution_count": 3,
     "metadata": {},
     "output_type": "execute_result"
    }
   ],
   "source": [
    "# Выведем всю таблицу\n",
    "hypothesis"
   ]
  },
  {
   "cell_type": "code",
   "execution_count": 4,
   "metadata": {},
   "outputs": [
    {
     "name": "stdout",
     "output_type": "stream",
     "text": [
      "<class 'pandas.core.frame.DataFrame'>\n",
      "RangeIndex: 9 entries, 0 to 8\n",
      "Data columns (total 5 columns):\n",
      " #   Column      Non-Null Count  Dtype \n",
      "---  ------      --------------  ----- \n",
      " 0   Hypothesis  9 non-null      object\n",
      " 1   Reach       9 non-null      int64 \n",
      " 2   Impact      9 non-null      int64 \n",
      " 3   Confidence  9 non-null      int64 \n",
      " 4   Efforts     9 non-null      int64 \n",
      "dtypes: int64(4), object(1)\n",
      "memory usage: 488.0+ bytes\n"
     ]
    }
   ],
   "source": [
    "# Общая информация\n",
    "hypothesis.info()"
   ]
  },
  {
   "cell_type": "markdown",
   "metadata": {},
   "source": [
    "**Кол-во строк 9\\\n",
    "Пропусков данных нет\\\n",
    "Необходимо преобразовать названия столбцов к snake_case**"
   ]
  },
  {
   "cell_type": "code",
   "execution_count": 5,
   "metadata": {},
   "outputs": [
    {
     "name": "stdout",
     "output_type": "stream",
     "text": [
      "<class 'pandas.core.frame.DataFrame'>\n",
      "RangeIndex: 9 entries, 0 to 8\n",
      "Data columns (total 5 columns):\n",
      " #   Column      Non-Null Count  Dtype \n",
      "---  ------      --------------  ----- \n",
      " 0   hypothesis  9 non-null      object\n",
      " 1   reach       9 non-null      int64 \n",
      " 2   impact      9 non-null      int64 \n",
      " 3   confidence  9 non-null      int64 \n",
      " 4   efforts     9 non-null      int64 \n",
      "dtypes: int64(4), object(1)\n",
      "memory usage: 488.0+ bytes\n"
     ]
    }
   ],
   "source": [
    "# Переименуем названия столбцов\n",
    "hypothesis.columns = hypothesis.columns.str.lower()\n",
    "# Проверяем\n",
    "hypothesis.info()"
   ]
  },
  {
   "cell_type": "markdown",
   "metadata": {},
   "source": [
    "### Приоритизация гипотез"
   ]
  },
  {
   "cell_type": "code",
   "execution_count": 6,
   "metadata": {
    "scrolled": true
   },
   "outputs": [
    {
     "name": "stdout",
     "output_type": "stream",
     "text": [
      "                                                                                                     hypothesis  \\\n",
      "8                                                       Запустить акцию, дающую скидку на товар в день рождения   \n",
      "0            Добавить два новых канала привлечения трафика, что позволит привлекать на 30% больше пользователей   \n",
      "7              Добавить форму подписки на все основные страницы, чтобы собрать базу клиентов для email-рассылок   \n",
      "6          Показать на главной странице баннеры с актуальными акциями и распродажами, чтобы увеличить конверсию   \n",
      "2  Добавить блоки рекомендаций товаров на сайт интернет магазина, чтобы повысить конверсию и средний чек заказа   \n",
      "1                                     Запустить собственную службу доставки, что сократит срок доставки заказов   \n",
      "5                      Добавить страницу отзывов клиентов о магазине, что позволит увеличить количество заказов   \n",
      "3           Изменить структура категорий, что увеличит конверсию, т.к. пользователи быстрее найдут нужный товар   \n",
      "4                              Изменить цвет фона главной страницы, чтобы увеличить вовлеченность пользователей   \n",
      "\n",
      "     ICE  \n",
      "8  16.20  \n",
      "0  13.33  \n",
      "7  11.20  \n",
      "6   8.00  \n",
      "2   7.00  \n",
      "1   2.00  \n",
      "5   1.33  \n",
      "3   1.12  \n",
      "4   1.00  \n"
     ]
    }
   ],
   "source": [
    "hypothesis['ICE'] = round((hypothesis['impact']*hypothesis['confidence'])/hypothesis['efforts'], 2)\n",
    "print(hypothesis[['hypothesis', 'ICE']].sort_values(by='ICE', ascending=False))"
   ]
  },
  {
   "cell_type": "markdown",
   "metadata": {},
   "source": [
    "**Вывод:**\\\n",
    "Наиболее перспективные гипотезы фреймворку ICE (в порядке убывания):\n",
    "- Запустить акцию, дающую скидку на товар в день рождения\n",
    "- Добавить два новых канала привлечения трафика, что позволит привлекать на 30% больше пользователей\n",
    "- Добавить форму подписки на все основные страницы, чтобы собрать базу клиентов для email-рассылок\n",
    "- Показать на главной странице баннеры с актуальными акциями и распродажами, чтобы увеличить конверсию\n",
    "- Добавить блоки рекомендаций товаров на сайт интернет магазина, чтобы повысить конверсию и средний чек заказа"
   ]
  },
  {
   "cell_type": "code",
   "execution_count": 7,
   "metadata": {
    "scrolled": true
   },
   "outputs": [
    {
     "name": "stdout",
     "output_type": "stream",
     "text": [
      "                                                                                                     hypothesis  \\\n",
      "7              Добавить форму подписки на все основные страницы, чтобы собрать базу клиентов для email-рассылок   \n",
      "2  Добавить блоки рекомендаций товаров на сайт интернет магазина, чтобы повысить конверсию и средний чек заказа   \n",
      "0            Добавить два новых канала привлечения трафика, что позволит привлекать на 30% больше пользователей   \n",
      "6          Показать на главной странице баннеры с актуальными акциями и распродажами, чтобы увеличить конверсию   \n",
      "8                                                       Запустить акцию, дающую скидку на товар в день рождения   \n",
      "3           Изменить структура категорий, что увеличит конверсию, т.к. пользователи быстрее найдут нужный товар   \n",
      "1                                     Запустить собственную службу доставки, что сократит срок доставки заказов   \n",
      "5                      Добавить страницу отзывов клиентов о магазине, что позволит увеличить количество заказов   \n",
      "4                              Изменить цвет фона главной страницы, чтобы увеличить вовлеченность пользователей   \n",
      "\n",
      "    RICE  \n",
      "7  112.0  \n",
      "2   56.0  \n",
      "0   40.0  \n",
      "6   40.0  \n",
      "8   16.2  \n",
      "3    9.0  \n",
      "1    4.0  \n",
      "5    4.0  \n",
      "4    3.0  \n"
     ]
    }
   ],
   "source": [
    "hypothesis['RICE'] = round((hypothesis['reach']*hypothesis['impact']*hypothesis['confidence'])/hypothesis['efforts'], 2)\n",
    "print(hypothesis[['hypothesis', 'RICE']].sort_values(by='RICE', ascending=False))"
   ]
  },
  {
   "cell_type": "markdown",
   "metadata": {},
   "source": [
    "**Вывод:**\\\n",
    "По фреймворку RICE в лидерах гипотезы (в порядке убывания):\n",
    "- Добавить форму подписки на все основные страницы, чтобы собрать базу клиентов для email-рассылок\n",
    "- Добавить блоки рекомендаций товаров на сайт интернет магазина, чтобы повысить конверсию и средний чек заказа\n",
    "- Добавить два новых канала привлечения трафика, что позволит привлекать на 30% больше пользователей\n",
    "- Показать на главной странице баннеры с актуальными акциями и распродажами, чтобы увеличить конверсию\n",
    "- Запустить акцию, дающую скидку на товар в день рождения"
   ]
  },
  {
   "cell_type": "markdown",
   "metadata": {},
   "source": [
    "**Изменилась приоритизация гипотез при применении фреймворка RICE вместо ICE, т.к. у следующих гипотез:**\n",
    "\n",
    "**Высокий показатель Reach**\n",
    "- Добавить форму подписки на все основные страницы, чтобы собрать базу клиентов для email-рассылок\n",
    "- Добавить блоки рекомендаций товаров на сайт интернет магазина, чтобы повысить конверсию и средний чек заказа\n",
    "\n",
    "**Высокий показатель Impact**\n",
    "- Добавить два новых канала привлечения трафика, что позволит привлекать на 30% больше пользователей"
   ]
  },
  {
   "cell_type": "markdown",
   "metadata": {},
   "source": [
    "## Часть 2. Анализ A/B-теста"
   ]
  },
  {
   "cell_type": "code",
   "execution_count": 8,
   "metadata": {},
   "outputs": [],
   "source": [
    "# Импорт необходимых библиотек\n",
    "import datetime as dt\n",
    "import numpy as np\n",
    "import scipy.stats as stats\n",
    "import matplotlib.pyplot as plt\n",
    "from pandas.plotting import register_matplotlib_converters\n",
    "import warnings\n",
    "# конвертеры, которые позволяют использовать типы pandas в matplotlib  \n",
    "register_matplotlib_converters()"
   ]
  },
  {
   "cell_type": "code",
   "execution_count": 9,
   "metadata": {},
   "outputs": [],
   "source": [
    "# Загрузим данные\n",
    "visitors, orders = (\n",
    "    pd.read_csv('/datasets/visitors.csv'),  # журнал визитов\n",
    "    pd.read_csv('/datasets/orders.csv')  # журнал заказов\n",
    ")"
   ]
  },
  {
   "cell_type": "code",
   "execution_count": 10,
   "metadata": {
    "scrolled": true
   },
   "outputs": [
    {
     "data": {
      "text/html": [
       "<div>\n",
       "<style scoped>\n",
       "    .dataframe tbody tr th:only-of-type {\n",
       "        vertical-align: middle;\n",
       "    }\n",
       "\n",
       "    .dataframe tbody tr th {\n",
       "        vertical-align: top;\n",
       "    }\n",
       "\n",
       "    .dataframe thead th {\n",
       "        text-align: right;\n",
       "    }\n",
       "</style>\n",
       "<table border=\"1\" class=\"dataframe\">\n",
       "  <thead>\n",
       "    <tr style=\"text-align: right;\">\n",
       "      <th></th>\n",
       "      <th>date</th>\n",
       "      <th>group</th>\n",
       "      <th>visitors</th>\n",
       "    </tr>\n",
       "  </thead>\n",
       "  <tbody>\n",
       "    <tr>\n",
       "      <th>18</th>\n",
       "      <td>2019-08-19</td>\n",
       "      <td>A</td>\n",
       "      <td>502</td>\n",
       "    </tr>\n",
       "    <tr>\n",
       "      <th>59</th>\n",
       "      <td>2019-08-29</td>\n",
       "      <td>B</td>\n",
       "      <td>531</td>\n",
       "    </tr>\n",
       "    <tr>\n",
       "      <th>12</th>\n",
       "      <td>2019-08-13</td>\n",
       "      <td>A</td>\n",
       "      <td>748</td>\n",
       "    </tr>\n",
       "    <tr>\n",
       "      <th>60</th>\n",
       "      <td>2019-08-30</td>\n",
       "      <td>B</td>\n",
       "      <td>490</td>\n",
       "    </tr>\n",
       "    <tr>\n",
       "      <th>57</th>\n",
       "      <td>2019-08-27</td>\n",
       "      <td>B</td>\n",
       "      <td>720</td>\n",
       "    </tr>\n",
       "  </tbody>\n",
       "</table>\n",
       "</div>"
      ],
      "text/plain": [
       "          date group  visitors\n",
       "18  2019-08-19     A       502\n",
       "59  2019-08-29     B       531\n",
       "12  2019-08-13     A       748\n",
       "60  2019-08-30     B       490\n",
       "57  2019-08-27     B       720"
      ]
     },
     "execution_count": 10,
     "metadata": {},
     "output_type": "execute_result"
    }
   ],
   "source": [
    "# 5 рандомных строк \"визиты\"\n",
    "visitors.sample(5)"
   ]
  },
  {
   "cell_type": "code",
   "execution_count": 11,
   "metadata": {
    "scrolled": false
   },
   "outputs": [
    {
     "name": "stdout",
     "output_type": "stream",
     "text": [
      "<class 'pandas.core.frame.DataFrame'>\n",
      "RangeIndex: 62 entries, 0 to 61\n",
      "Data columns (total 3 columns):\n",
      " #   Column    Non-Null Count  Dtype \n",
      "---  ------    --------------  ----- \n",
      " 0   date      62 non-null     object\n",
      " 1   group     62 non-null     object\n",
      " 2   visitors  62 non-null     int64 \n",
      "dtypes: int64(1), object(2)\n",
      "memory usage: 1.6+ KB\n"
     ]
    }
   ],
   "source": [
    "# Общая информация \"визиты\"\n",
    "visitors.info()"
   ]
  },
  {
   "cell_type": "markdown",
   "metadata": {},
   "source": [
    "**Кол-во строк 62\\\n",
    "Пропусков данных нет\\\n",
    "Необходимо преобразовать столбце date к типу datetime**"
   ]
  },
  {
   "cell_type": "code",
   "execution_count": 12,
   "metadata": {},
   "outputs": [
    {
     "name": "stdout",
     "output_type": "stream",
     "text": [
      "<class 'pandas.core.frame.DataFrame'>\n",
      "RangeIndex: 62 entries, 0 to 61\n",
      "Data columns (total 3 columns):\n",
      " #   Column    Non-Null Count  Dtype         \n",
      "---  ------    --------------  -----         \n",
      " 0   date      62 non-null     datetime64[ns]\n",
      " 1   group     62 non-null     object        \n",
      " 2   visitors  62 non-null     int64         \n",
      "dtypes: datetime64[ns](1), int64(1), object(1)\n",
      "memory usage: 1.6+ KB\n"
     ]
    }
   ],
   "source": [
    "# Поменяем тип данных в столбце date на datetime\n",
    "visitors['date'] = visitors['date'].map(lambda x: dt.datetime.strptime(x, '%Y-%m-%d'))\n",
    "# Проверяем\n",
    "visitors.info()"
   ]
  },
  {
   "cell_type": "code",
   "execution_count": 13,
   "metadata": {},
   "outputs": [
    {
     "data": {
      "text/plain": [
       "0"
      ]
     },
     "execution_count": 13,
     "metadata": {},
     "output_type": "execute_result"
    }
   ],
   "source": [
    "# Проверяем дубликаты\n",
    "visitors.duplicated().sum()"
   ]
  },
  {
   "cell_type": "code",
   "execution_count": 14,
   "metadata": {},
   "outputs": [
    {
     "data": {
      "text/html": [
       "<div>\n",
       "<style scoped>\n",
       "    .dataframe tbody tr th:only-of-type {\n",
       "        vertical-align: middle;\n",
       "    }\n",
       "\n",
       "    .dataframe tbody tr th {\n",
       "        vertical-align: top;\n",
       "    }\n",
       "\n",
       "    .dataframe thead th {\n",
       "        text-align: right;\n",
       "    }\n",
       "</style>\n",
       "<table border=\"1\" class=\"dataframe\">\n",
       "  <thead>\n",
       "    <tr style=\"text-align: right;\">\n",
       "      <th></th>\n",
       "      <th>transactionId</th>\n",
       "      <th>visitorId</th>\n",
       "      <th>date</th>\n",
       "      <th>revenue</th>\n",
       "      <th>group</th>\n",
       "    </tr>\n",
       "  </thead>\n",
       "  <tbody>\n",
       "    <tr>\n",
       "      <th>684</th>\n",
       "      <td>3964942202</td>\n",
       "      <td>358944393</td>\n",
       "      <td>2019-08-29</td>\n",
       "      <td>42740</td>\n",
       "      <td>A</td>\n",
       "    </tr>\n",
       "    <tr>\n",
       "      <th>1090</th>\n",
       "      <td>3583790584</td>\n",
       "      <td>1122598516</td>\n",
       "      <td>2019-08-12</td>\n",
       "      <td>400</td>\n",
       "      <td>A</td>\n",
       "    </tr>\n",
       "    <tr>\n",
       "      <th>1175</th>\n",
       "      <td>1373388206</td>\n",
       "      <td>3717692402</td>\n",
       "      <td>2019-08-14</td>\n",
       "      <td>2400</td>\n",
       "      <td>B</td>\n",
       "    </tr>\n",
       "    <tr>\n",
       "      <th>540</th>\n",
       "      <td>1084293954</td>\n",
       "      <td>2069923923</td>\n",
       "      <td>2019-08-20</td>\n",
       "      <td>1090</td>\n",
       "      <td>A</td>\n",
       "    </tr>\n",
       "    <tr>\n",
       "      <th>319</th>\n",
       "      <td>2414788465</td>\n",
       "      <td>2247745159</td>\n",
       "      <td>2019-08-19</td>\n",
       "      <td>1435</td>\n",
       "      <td>B</td>\n",
       "    </tr>\n",
       "  </tbody>\n",
       "</table>\n",
       "</div>"
      ],
      "text/plain": [
       "      transactionId   visitorId        date  revenue group\n",
       "684      3964942202   358944393  2019-08-29    42740     A\n",
       "1090     3583790584  1122598516  2019-08-12      400     A\n",
       "1175     1373388206  3717692402  2019-08-14     2400     B\n",
       "540      1084293954  2069923923  2019-08-20     1090     A\n",
       "319      2414788465  2247745159  2019-08-19     1435     B"
      ]
     },
     "execution_count": 14,
     "metadata": {},
     "output_type": "execute_result"
    }
   ],
   "source": [
    "# 5 рандомных строк \"заказы\"\n",
    "orders.sample(5)"
   ]
  },
  {
   "cell_type": "code",
   "execution_count": 15,
   "metadata": {
    "scrolled": false
   },
   "outputs": [
    {
     "name": "stdout",
     "output_type": "stream",
     "text": [
      "<class 'pandas.core.frame.DataFrame'>\n",
      "RangeIndex: 1197 entries, 0 to 1196\n",
      "Data columns (total 5 columns):\n",
      " #   Column         Non-Null Count  Dtype \n",
      "---  ------         --------------  ----- \n",
      " 0   transactionId  1197 non-null   int64 \n",
      " 1   visitorId      1197 non-null   int64 \n",
      " 2   date           1197 non-null   object\n",
      " 3   revenue        1197 non-null   int64 \n",
      " 4   group          1197 non-null   object\n",
      "dtypes: int64(3), object(2)\n",
      "memory usage: 46.9+ KB\n"
     ]
    }
   ],
   "source": [
    "# Общая информация \"заказы\"\n",
    "orders.info()"
   ]
  },
  {
   "cell_type": "markdown",
   "metadata": {},
   "source": [
    "**Кол-во строк 1197\\\n",
    "Пропусков данных нет\\\n",
    "Необходимо преобразовать столбце date к типу datetime**"
   ]
  },
  {
   "cell_type": "code",
   "execution_count": 16,
   "metadata": {},
   "outputs": [
    {
     "name": "stdout",
     "output_type": "stream",
     "text": [
      "<class 'pandas.core.frame.DataFrame'>\n",
      "RangeIndex: 1197 entries, 0 to 1196\n",
      "Data columns (total 5 columns):\n",
      " #   Column         Non-Null Count  Dtype         \n",
      "---  ------         --------------  -----         \n",
      " 0   transactionId  1197 non-null   int64         \n",
      " 1   visitorId      1197 non-null   int64         \n",
      " 2   date           1197 non-null   datetime64[ns]\n",
      " 3   revenue        1197 non-null   int64         \n",
      " 4   group          1197 non-null   object        \n",
      "dtypes: datetime64[ns](1), int64(3), object(1)\n",
      "memory usage: 46.9+ KB\n"
     ]
    }
   ],
   "source": [
    "# Поменяем тип данных в столбце date на datetime\n",
    "orders[\"date\"] = orders[\"date\"].map(lambda x: dt.datetime.strptime(x, '%Y-%m-%d'))\n",
    "# Проверяем\n",
    "orders.info()"
   ]
  },
  {
   "cell_type": "code",
   "execution_count": 17,
   "metadata": {},
   "outputs": [
    {
     "data": {
      "text/plain": [
       "0"
      ]
     },
     "execution_count": 17,
     "metadata": {},
     "output_type": "execute_result"
    }
   ],
   "source": [
    "# Проверяем дубликаты\n",
    "orders.duplicated().sum()"
   ]
  },
  {
   "cell_type": "markdown",
   "metadata": {},
   "source": [
    "**Подготовка данных для анализа**"
   ]
  },
  {
   "cell_type": "code",
   "execution_count": 18,
   "metadata": {},
   "outputs": [],
   "source": [
    "# создаем массив уникальных пар значений дат и групп теста\n",
    "datesGroups = orders[['date', 'group']].drop_duplicates()\n",
    "\n",
    "# получаем агрегированные кумулятивные по дням данные о заказах \n",
    "ordersAggregated = datesGroups.apply(\n",
    "    lambda x: orders[\n",
    "        np.logical_and(\n",
    "            orders['date'] <= x['date'], orders['group'] == x['group']\n",
    "        )\n",
    "    ].agg(\n",
    "        {\n",
    "            'date': 'max',\n",
    "            'group': 'max',\n",
    "            'transactionId': 'nunique',\n",
    "            'visitorId': 'nunique',\n",
    "            'revenue': 'sum',\n",
    "        }\n",
    "    ),\n",
    "    axis=1,\n",
    ").sort_values(by=['date', 'group'])\n",
    "\n",
    "# получаем агрегированные кумулятивные по дням данные о посетителях\n",
    "visitorsAggregated = datesGroups.apply(\n",
    "    lambda x: visitors[\n",
    "        np.logical_and(\n",
    "            visitors['date'] <= x['date'], visitors['group'] == x['group']\n",
    "        )\n",
    "    ].agg({'date': 'max', 'group': 'max', 'visitors': 'sum'}),\n",
    "    axis=1,\n",
    ").sort_values(by=['date', 'group'])\n",
    "\n",
    "# объединяем кумулятивные данные в одной таблице и присваиваем ее столбцам понятные названия\n",
    "cumulativeData = ordersAggregated.merge(\n",
    "    visitorsAggregated, left_on=['date', 'group'], right_on=['date', 'group']\n",
    ")\n",
    "cumulativeData.columns = [\n",
    "    'date',\n",
    "    'group',\n",
    "    'orders',\n",
    "    'buyers',\n",
    "    'revenue',\n",
    "    'visitors',\n",
    "]\n",
    "\n",
    "# считаем кумулятивную конверсию\n",
    "cumulativeData['conversion'] = cumulativeData['orders']/cumulativeData['visitors']\n",
    "\n",
    "# отделяем данные по группе A\n",
    "cumulativeDataA = cumulativeData[cumulativeData['group']=='A']\n",
    "\n",
    "# отделяем данные по группе B\n",
    "cumulativeDataB = cumulativeData[cumulativeData['group']=='B']\n",
    "\n",
    "# датафрейм с кумулятивным количеством заказов и кумулятивной выручкой по дням в группе А\n",
    "cumulativeRevenueA = cumulativeData[cumulativeData['group']=='A'][['date','revenue', 'orders']]\n",
    "\n",
    "# датафрейм с кумулятивным количеством заказов и кумулятивной выручкой по дням в группе B\n",
    "cumulativeRevenueB = cumulativeData[cumulativeData['group']=='B'][['date','revenue', 'orders']]"
   ]
  },
  {
   "cell_type": "markdown",
   "metadata": {},
   "source": [
    "**1. Построим график кумулятивной выручки по группам.**"
   ]
  },
  {
   "cell_type": "code",
   "execution_count": 19,
   "metadata": {
    "scrolled": true
   },
   "outputs": [
    {
     "data": {
      "image/png": "[encoded data removed]",
      "text/plain": [
       "<Figure size 1080x360 with 1 Axes>"
      ]
     },
     "metadata": {
      "needs_background": "light"
     },
     "output_type": "display_data"
    }
   ],
   "source": [
    "plt.figure(figsize=(15,5))\n",
    "# Строим график выручки группы А\n",
    "plt.plot(cumulativeRevenueA['date'], cumulativeRevenueA['revenue'], label='A')\n",
    "# Строим график выручки группы B\n",
    "plt.plot(cumulativeRevenueB['date'], cumulativeRevenueB['revenue'], label='B')\n",
    "plt.title('Графики кумулятивной выручки по группам')\n",
    "plt.ylabel('Выручка')\n",
    "plt.xlabel('Дата')\n",
    "plt.legend()\n",
    "plt.show()"
   ]
  },
  {
   "cell_type": "markdown",
   "metadata": {},
   "source": [
    "На всем временном промежутке теста показатели группы В лидируют. В период с 17.08.2019 по 21.08.2019 для группу В наблюдается резкий скачек кулулятивной выручки. Это может быть связано со значитильным увеличением числа заказов или аномально больших заказов. "
   ]
  },
  {
   "cell_type": "markdown",
   "metadata": {},
   "source": [
    "**2. Построим график кумулятивного среднего чека по группам.**"
   ]
  },
  {
   "cell_type": "code",
   "execution_count": 20,
   "metadata": {
    "scrolled": true
   },
   "outputs": [
    {
     "data": {
      "image/png": "[encoded data removed]",
      "text/plain": [
       "<Figure size 1080x360 with 1 Axes>"
      ]
     },
     "metadata": {
      "needs_background": "light"
     },
     "output_type": "display_data"
    }
   ],
   "source": [
    "plt.figure(figsize=(15,5))\n",
    "# Строим график среднего чека группы А\n",
    "plt.plot(cumulativeRevenueA['date'], cumulativeRevenueA['revenue']/cumulativeRevenueA['orders'], label='A')\n",
    "# Строим график среднего чека группы B\n",
    "plt.plot(cumulativeRevenueB['date'], cumulativeRevenueB['revenue']/cumulativeRevenueB['orders'], label='B')\n",
    "\n",
    "plt.title('Графики кумулятивного среднего чека по группам')\n",
    "plt.ylabel('Средний чек')\n",
    "plt.xlabel('Дата')\n",
    "plt.legend()\n",
    "plt.show()"
   ]
  },
  {
   "cell_type": "markdown",
   "metadata": {},
   "source": [
    "Как и в случае с колуляьивной выручкой по группам, наблюдается резкий скачет среднего чека у группы В в период с 17.08.2019 по 21.08.2019. Скорее всего в этотт период есть аномально большие заказы."
   ]
  },
  {
   "cell_type": "markdown",
   "metadata": {},
   "source": [
    "**3. Построим график относительного изменения кумулятивного среднего чека группы B к группе A.**"
   ]
  },
  {
   "cell_type": "code",
   "execution_count": 21,
   "metadata": {},
   "outputs": [
    {
     "data": {
      "image/png": "[encoded data removed]",
      "text/plain": [
       "<Figure size 1080x360 with 1 Axes>"
      ]
     },
     "metadata": {
      "needs_background": "light"
     },
     "output_type": "display_data"
    }
   ],
   "source": [
    "plt.figure(figsize=(15,5))\n",
    "# собираем данные в одном датафрейме\n",
    "mergedCumulativeRevenue = cumulativeRevenueA.merge(cumulativeRevenueB, left_on='date', right_on='date', how='left', suffixes=['A', 'B'])\n",
    "\n",
    "# cтроим отношение средних чеков\n",
    "plt.plot(mergedCumulativeRevenue['date'], (mergedCumulativeRevenue['revenueB']/mergedCumulativeRevenue['ordersB'])/(mergedCumulativeRevenue['revenueA']/mergedCumulativeRevenue['ordersA'])-1)\n",
    "plt.title('График относительного изменения кумулятивного среднего чека группы B к группе A')\n",
    "plt.xlabel('Дата')\n",
    "# добавляем ось X\n",
    "plt.axhline(y=0, color='black', linestyle='--')\n",
    "plt.show()"
   ]
  },
  {
   "cell_type": "markdown",
   "metadata": {},
   "source": [
    "График относительного изменения кумулятивного среднего чека имеет резкие изменения. Скорее всего это связано с аномальными заказами."
   ]
  },
  {
   "cell_type": "markdown",
   "metadata": {},
   "source": [
    "**4. Постройте график кумулятивного среднего количества заказов на посетителя по группам.**"
   ]
  },
  {
   "cell_type": "code",
   "execution_count": 22,
   "metadata": {},
   "outputs": [
    {
     "data": {
      "image/png": "[encoded data removed]",
      "text/plain": [
       "<Figure size 1080x360 with 1 Axes>"
      ]
     },
     "metadata": {
      "needs_background": "light"
     },
     "output_type": "display_data"
    }
   ],
   "source": [
    "plt.figure(figsize=(15,5))\n",
    "# Строим график среднего количества заказов группы А\n",
    "plt.plot(cumulativeDataA['date'], cumulativeDataA['conversion'], label='A')\n",
    "# Строим график среднего количества заказов группы B\n",
    "plt.plot(cumulativeDataB['date'], cumulativeDataB['conversion'], label='B')\n",
    "plt.title('График кумулятивного среднего количества заказов на посетителя по группам')\n",
    "plt.xlabel('Дата')\n",
    "plt.ylabel('Конверсия')\n",
    "plt.legend()\n",
    "plt.show()"
   ]
  },
  {
   "cell_type": "markdown",
   "metadata": {},
   "source": [
    "В начале теста обе группы показывали рост конверсии, затем резкое падение. Покатель группы А стабилизировался после снижения. У группы В конверсия после падения повысилась и стабилизировалась. Большую часть теста конверсия группы В знаительно выше группы А."
   ]
  },
  {
   "cell_type": "markdown",
   "metadata": {},
   "source": [
    "**5. Построим график относительного изменения кумулятивного среднего количества заказов на посетителя группы B к группе A.**"
   ]
  },
  {
   "cell_type": "code",
   "execution_count": 23,
   "metadata": {
    "scrolled": false
   },
   "outputs": [
    {
     "data": {
      "image/png": "[encoded data removed]",
      "text/plain": [
       "<Figure size 1080x360 with 1 Axes>"
      ]
     },
     "metadata": {
      "needs_background": "light"
     },
     "output_type": "display_data"
    }
   ],
   "source": [
    "plt.figure(figsize=(15,5))\n",
    "# cтроим отношение среднего количества заказов на посетителя\n",
    "plt.plot(mergedCumulativeRevenue['date'], (mergedCumulativeRevenue['ordersB'])/(mergedCumulativeRevenue['ordersA'])-1)\n",
    "\n",
    "# добавляем ось X\n",
    "plt.axhline(y=0, color='black', linestyle='--')\n",
    "plt.title('График относительного изменения кумулятивного среднего количества заказов на посетителя группы B к группе A')\n",
    "plt.xlabel('Дата')\n",
    "plt.show()"
   ]
  },
  {
   "cell_type": "markdown",
   "metadata": {},
   "source": [
    "Как и в графике кумулятивного среднего количества заказов по группам, видно что после 1/4 теста группа В лидирует."
   ]
  },
  {
   "cell_type": "markdown",
   "metadata": {},
   "source": [
    "**6. Построим точечный график количества заказов по пользователям.**"
   ]
  },
  {
   "cell_type": "code",
   "execution_count": 24,
   "metadata": {},
   "outputs": [],
   "source": [
    "# Подсчитаем количество заказов по пользователям\n",
    "ordersByUsers = (\n",
    "    orders.groupby('visitorId', as_index=False)\n",
    "    .agg({'transactionId': 'nunique'})\n",
    ")\n",
    "\n",
    "ordersByUsers.columns = ['userId', 'orders']"
   ]
  },
  {
   "cell_type": "code",
   "execution_count": 25,
   "metadata": {
    "scrolled": true
   },
   "outputs": [
    {
     "data": {
      "image/png": "[encoded data removed]",
      "text/plain": [
       "<Figure size 720x360 with 1 Axes>"
      ]
     },
     "metadata": {
      "needs_background": "light"
     },
     "output_type": "display_data"
    }
   ],
   "source": [
    "# Построим точечную диаграмму числа заказов на одного пользователя\n",
    "x_values = pd.Series(range(0,len(ordersByUsers)))\n",
    "plt.figure(figsize=(10,5))\n",
    "plt.scatter(x_values, ordersByUsers['orders']) \n",
    "plt.title('Точечная диаграмма количества заказов по пользователям')\n",
    "plt.show()"
   ]
  },
  {
   "cell_type": "markdown",
   "metadata": {},
   "source": [
    "Большинско пользователей оформляли 1-2 заказа. Но есть те кто оформил 3 заказа и больше. Необходимо определить границу с перцентилей."
   ]
  },
  {
   "cell_type": "markdown",
   "metadata": {},
   "source": [
    "**7. Посчитаем 95-й и 99-й перцентили количества заказов на пользователя. Выберем границу для определения аномальных пользователей.**"
   ]
  },
  {
   "cell_type": "code",
   "execution_count": 26,
   "metadata": {
    "scrolled": true
   },
   "outputs": [
    {
     "name": "stdout",
     "output_type": "stream",
     "text": [
      "[2. 4.]\n"
     ]
    }
   ],
   "source": [
    "print(np.percentile(ordersByUsers['orders'], [95, 99]))"
   ]
  },
  {
   "cell_type": "markdown",
   "metadata": {},
   "source": [
    "Не более 5% совершали заказ больше 2х раз и не более 1% сделали 4 и более. Граница для определения аномальных пользователей 4 заказа."
   ]
  },
  {
   "cell_type": "markdown",
   "metadata": {},
   "source": [
    "**8. Построим точечный график стоимостей заказов.**"
   ]
  },
  {
   "cell_type": "code",
   "execution_count": 27,
   "metadata": {
    "scrolled": false
   },
   "outputs": [
    {
     "data": {
      "image/png": "[encoded data removed]",
      "text/plain": [
       "<Figure size 720x360 with 1 Axes>"
      ]
     },
     "metadata": {
      "needs_background": "light"
     },
     "output_type": "display_data"
    }
   ],
   "source": [
    "# Построим точечный график стоимостей заказов на одного пользователя\n",
    "x_values = pd.Series(range(0,len(orders['revenue'])))\n",
    "plt.figure(figsize=(10,5))\n",
    "plt.scatter(x_values, orders['revenue']) \n",
    "plt.title('Точечный график стоимостей заказов')\n",
    "plt.axis([0, 1300, 0, 150000])\n",
    "plt.show()"
   ]
  },
  {
   "cell_type": "markdown",
   "metadata": {},
   "source": [
    "Большинство пользователей совершает покупки на сумму не более 20 тыс.руб."
   ]
  },
  {
   "cell_type": "code",
   "execution_count": 28,
   "metadata": {},
   "outputs": [
    {
     "data": {
      "image/png": "[encoded data removed]",
      "text/plain": [
       "<Figure size 720x360 with 1 Axes>"
      ]
     },
     "metadata": {
      "needs_background": "light"
     },
     "output_type": "display_data"
    }
   ],
   "source": [
    "# Построим точечный график стоимостей заказов на одного пользователя\n",
    "x_values = pd.Series(range(0,len(orders['revenue'])))\n",
    "plt.figure(figsize=(10,5))\n",
    "plt.scatter(x_values, orders['revenue']) \n",
    "plt.title('Точечный график стоимостей заказов')\n",
    "\n",
    "plt.show()"
   ]
  },
  {
   "cell_type": "markdown",
   "metadata": {},
   "source": [
    "На графике видно 2 аномальных заказа на сумму 200 тыс и свыше 1,2 млн. Они значительно влияют на показатели."
   ]
  },
  {
   "cell_type": "markdown",
   "metadata": {},
   "source": [
    "**9. Посчитайте 95-й и 99-й перцентили стоимости заказов. Выберем границу для определения аномальных заказов.**"
   ]
  },
  {
   "cell_type": "code",
   "execution_count": 29,
   "metadata": {},
   "outputs": [
    {
     "name": "stdout",
     "output_type": "stream",
     "text": [
      "[28000.  58233.2]\n"
     ]
    }
   ],
   "source": [
    "print(np.percentile(orders['revenue'], [95, 99]))"
   ]
  },
  {
   "cell_type": "markdown",
   "metadata": {},
   "source": [
    "Не более 5% заказов дороже 28000 рублей и не более 1% дороже 58233 рублей."
   ]
  },
  {
   "cell_type": "markdown",
   "metadata": {},
   "source": [
    "**10. Посчитаем статистическую значимость различий в среднем количестве заказов на посетителя между группами по «сырым» данным.**"
   ]
  },
  {
   "cell_type": "code",
   "execution_count": 30,
   "metadata": {
    "scrolled": true
   },
   "outputs": [
    {
     "name": "stdout",
     "output_type": "stream",
     "text": [
      "        date  ordersPerDateA  revenuePerDateA  ordersPerDateB  \\\n",
      "0 2019-08-01              24           148579              21   \n",
      "1 2019-08-02              20            93822              24   \n",
      "2 2019-08-03              24           112473              16   \n",
      "3 2019-08-04              16            70825              17   \n",
      "4 2019-08-05              25           124218              23   \n",
      "\n",
      "   revenuePerDateB  visitorsPerDateA  visitorsPerDateB  \n",
      "0           101217               719               713  \n",
      "1           165531               619               581  \n",
      "2           114248               507               509  \n",
      "3           108571               717               770  \n",
      "4            92428               756               707  \n"
     ]
    }
   ],
   "source": [
    "# Подготовим необходимые данные\n",
    "visitorsADaily = visitors[visitors['group'] == 'A'][['date', 'visitors']]\n",
    "visitorsADaily.columns = ['date', 'visitorsPerDateA']\n",
    "\n",
    "\n",
    "visitorsBDaily = visitors[visitors['group'] == 'B'][['date', 'visitors']]\n",
    "visitorsBDaily.columns = ['date', 'visitorsPerDateB']\n",
    "\n",
    "ordersADaily = (\n",
    "    orders[orders['group'] == 'A'][['date', 'transactionId', 'visitorId', 'revenue']]\n",
    "    .groupby('date', as_index=False)\n",
    "    .agg({'transactionId': pd.Series.nunique, 'revenue': 'sum'})\n",
    ")\n",
    "ordersADaily.columns = ['date', 'ordersPerDateA', 'revenuePerDateA']\n",
    "\n",
    "\n",
    "ordersBDaily = (\n",
    "    orders[orders['group'] == 'B'][['date', 'transactionId', 'visitorId', 'revenue']]\n",
    "    .groupby('date', as_index=False)\n",
    "    .agg({'transactionId': pd.Series.nunique, 'revenue': 'sum'})\n",
    ")\n",
    "ordersBDaily.columns = ['date', 'ordersPerDateB', 'revenuePerDateB']\n",
    "\n",
    "data = (\n",
    "    ordersADaily.merge(\n",
    "        ordersBDaily, left_on='date', right_on='date', how='left'\n",
    "    )\n",
    "    .merge(visitorsADaily, left_on='date', right_on='date', how='left')\n",
    "    .merge(visitorsBDaily, left_on='date', right_on='date', how='left')\n",
    ")\n",
    "\n",
    "print(data.head(5)) "
   ]
  },
  {
   "cell_type": "code",
   "execution_count": 31,
   "metadata": {},
   "outputs": [],
   "source": [
    "# Создадим переменные ordersByUsersA и ordersByUsersB со столбцами ['userId', 'orders']. \n",
    "# В них для пользователей, которые заказывали хотя бы 1 раз, укажем число совершённых заказов. \n",
    "ordersByUsersA = (\n",
    "    orders[orders['group'] == 'A']\n",
    "    .groupby('visitorId', as_index=False)\n",
    "    .agg({'transactionId': pd.Series.nunique})\n",
    ")\n",
    "ordersByUsersA.columns = ['userId', 'orders']\n",
    "\n",
    "ordersByUsersB = (\n",
    "    orders[orders['group'] == 'B']\n",
    "    .groupby('visitorId', as_index=False)\n",
    "    .agg({'transactionId': pd.Series.nunique})\n",
    ")\n",
    "ordersByUsersB.columns = ['userId', 'orders']"
   ]
  },
  {
   "cell_type": "markdown",
   "metadata": {},
   "source": [
    "**Посчитаем статистическую значимость различий в среднем количестве заказов на посетителя между группами по «сырым» данным.**"
   ]
  },
  {
   "cell_type": "markdown",
   "metadata": {},
   "source": [
    "**Н0: Различий в среднем количестве заказов между группами А и В нет.\\\n",
    "Н1: Различия в среднем количестве заказов между группами А и В есть.**"
   ]
  },
  {
   "cell_type": "code",
   "execution_count": 32,
   "metadata": {
    "scrolled": true
   },
   "outputs": [
    {
     "name": "stdout",
     "output_type": "stream",
     "text": [
      "P-value - 0.017\n",
      "Относительный прирост - 0.138\n"
     ]
    }
   ],
   "source": [
    "# Объявим переменные sampleA и sampleB, в которых пользователям из разных групп будет соответствовать количество заказов. \n",
    "# Тем, кто ничего не заказал, будут соответствовать нули.\n",
    "\n",
    "sampleA = pd.concat([ordersByUsersA['orders'],pd.Series(0, index=np.arange(data['visitorsPerDateA'].sum() - len(ordersByUsersA['orders'])), name='orders')],axis=0)\n",
    "\n",
    "sampleB = pd.concat([ordersByUsersB['orders'],pd.Series(0, index=np.arange(data['visitorsPerDateB'].sum() - len(ordersByUsersB['orders'])), name='orders')],axis=0)\n",
    "\n",
    "print('P-value - '\"{0:.3f}\".format(stats.mannwhitneyu(sampleA, sampleB)[1]))\n",
    "\n",
    "print('Относительный прирост - '\"{0:.3f}\".format(sampleB.mean() / sampleA.mean() - 1))"
   ]
  },
  {
   "cell_type": "markdown",
   "metadata": {},
   "source": [
    "Вывод: По «сырым» данным различие в среднем числе заказов групп A и B есть, т.к.  P-value = 0.017 что меньше 0.05.\\\n",
    "Относительный прирост в среднем числе заказов группы B составил 13.8%"
   ]
  },
  {
   "cell_type": "markdown",
   "metadata": {},
   "source": [
    "**11. Посчитаем статистическую значимость различий в среднем чеке заказа между группами по «сырым» данным.**"
   ]
  },
  {
   "cell_type": "markdown",
   "metadata": {},
   "source": [
    "Н0: Различий в среднем чеке заказа между группами А и В нет.\\\n",
    "Н1: Различия в среднем чеке заказа между группами А и В есть."
   ]
  },
  {
   "cell_type": "code",
   "execution_count": 33,
   "metadata": {},
   "outputs": [
    {
     "name": "stdout",
     "output_type": "stream",
     "text": [
      "P-value = 0.729\n",
      "Относительный прирост = 0.259\n"
     ]
    }
   ],
   "source": [
    "print('P-value = ''{0:.3f}'.format(stats.mannwhitneyu(orders[orders['group']=='A']['revenue'], \n",
    "                                                      orders[orders['group']=='B']['revenue'])[1]))\n",
    "\n",
    "print('Относительный прирост = ''{0:.3f}'.format(orders[orders['group']=='B']['revenue'].mean()/\n",
    "                                                 orders[orders['group']=='A']['revenue'].mean()-1))"
   ]
  },
  {
   "cell_type": "markdown",
   "metadata": {},
   "source": [
    "Вывод: По «сырым» данным различий в среднем чеке заказов групп A и B нет, т.к. P-value = 0.729, что больше 0.05\\\n",
    "Относительный прирост в среднем чеке заказа группы B составил 25.9%, скорее всего большое влияние оказывают аномальные заказы."
   ]
  },
  {
   "cell_type": "markdown",
   "metadata": {},
   "source": [
    "**12. Посчитаем статистическую значимость различий в среднем количестве заказов на посетителя между группами по «очищенным» данным.**"
   ]
  },
  {
   "cell_type": "code",
   "execution_count": 34,
   "metadata": {},
   "outputs": [],
   "source": [
    "# Убираем пользователей с числом заказов больше 2\n",
    "usersWithManyOrders = pd.concat(\n",
    "        [\n",
    "        ordersByUsersA[ordersByUsersA['orders'] > (np.percentile(ordersByUsers['orders'], 99))]['userId'],\n",
    "        ordersByUsersB[ordersByUsersB['orders'] > (np.percentile(ordersByUsers['orders'], 99))]['userId'],\n",
    "    ], axis=0,\n",
    ")"
   ]
  },
  {
   "cell_type": "code",
   "execution_count": 35,
   "metadata": {},
   "outputs": [],
   "source": [
    "# Убираем пользователей, совершивших заказы дороже 28000\n",
    "usersWithExpensiveOrders = orders[orders['revenue'] > (np.percentile(orders['revenue'], 99))]['visitorId']"
   ]
  },
  {
   "cell_type": "code",
   "execution_count": 36,
   "metadata": {
    "scrolled": true
   },
   "outputs": [
    {
     "name": "stdout",
     "output_type": "stream",
     "text": [
      "1099     148427295\n",
      "949      887908475\n",
      "744      888512513\n",
      "1103    1164614297\n",
      "1136    1307669133\n",
      "dtype: int64\n",
      "15\n"
     ]
    }
   ],
   "source": [
    "# Объединим их в таблице abnormalUsers\n",
    "abnormalUsers = (\n",
    "    pd.concat([usersWithManyOrders, usersWithExpensiveOrders], axis=0)\n",
    "    .drop_duplicates()\n",
    "    .sort_values()\n",
    ")\n",
    "print(abnormalUsers.head(5))\n",
    "print(abnormalUsers.shape[0]) "
   ]
  },
  {
   "cell_type": "markdown",
   "metadata": {},
   "source": [
    "Выявлено 15 аномальных пользователей. "
   ]
  },
  {
   "cell_type": "code",
   "execution_count": 37,
   "metadata": {},
   "outputs": [],
   "source": [
    "# Подготовим выборки количества заказов по пользователям по группам теста\n",
    "sampleAFiltered = pd.concat(\n",
    "    [\n",
    "        ordersByUsersA[\n",
    "            np.logical_not(ordersByUsersA['userId'].isin(abnormalUsers))\n",
    "        ]['orders'],\n",
    "        pd.Series(\n",
    "            0,\n",
    "            index=np.arange(\n",
    "                data['visitorsPerDateA'].sum() - len(ordersByUsersA['orders'])\n",
    "            ),\n",
    "            name='orders',\n",
    "        ),\n",
    "    ],\n",
    "    axis=0,\n",
    ")\n",
    "\n",
    "sampleBFiltered = pd.concat(\n",
    "    [\n",
    "        ordersByUsersB[\n",
    "            np.logical_not(ordersByUsersB['userId'].isin(abnormalUsers))\n",
    "        ]['orders'],\n",
    "        pd.Series(\n",
    "            0,\n",
    "            index=np.arange(\n",
    "                data['visitorsPerDateB'].sum() - len(ordersByUsersB['orders'])\n",
    "            ),\n",
    "            name='orders',\n",
    "        ),\n",
    "    ],\n",
    "    axis=0,\n",
    ")"
   ]
  },
  {
   "cell_type": "code",
   "execution_count": 38,
   "metadata": {},
   "outputs": [
    {
     "name": "stdout",
     "output_type": "stream",
     "text": [
      "P-value = 0.014\n",
      "Относительный прирост = 0.153\n"
     ]
    }
   ],
   "source": [
    "# Применим статистический критерий Манна-Уитни к полученным выборкам\n",
    "print('P-value = ''{0:.3f}'.format(stats.mannwhitneyu(sampleAFiltered, sampleBFiltered)[1]))\n",
    "print('Относительный прирост = ''{0:.3f}'.format(sampleBFiltered.mean()/sampleAFiltered.mean()-1))"
   ]
  },
  {
   "cell_type": "markdown",
   "metadata": {},
   "source": [
    "Результаты по среднему количеству заказов практически не изменились. Относительный прирост конверсии группы В увеличился на 3.2% и составил 15.3%"
   ]
  },
  {
   "cell_type": "markdown",
   "metadata": {},
   "source": [
    "**13. Посчитаем статистическую значимость различий в среднем чеке заказа между группами по «очищенным» данным.**"
   ]
  },
  {
   "cell_type": "code",
   "execution_count": 39,
   "metadata": {},
   "outputs": [
    {
     "name": "stdout",
     "output_type": "stream",
     "text": [
      "P-value = 0.851\n",
      "Относительный прирост = -0.006\n"
     ]
    }
   ],
   "source": [
    "print(\n",
    "    'P-value = ''{0:.3f}'.format(\n",
    "        stats.mannwhitneyu(\n",
    "            orders[\n",
    "                np.logical_and(\n",
    "                    orders['group'] == 'A',\n",
    "                    np.logical_not(orders['visitorId'].isin(abnormalUsers)),\n",
    "                )\n",
    "            ]['revenue'],\n",
    "            orders[\n",
    "                np.logical_and(\n",
    "                    orders['group'] == 'B',\n",
    "                    np.logical_not(orders['visitorId'].isin(abnormalUsers)),\n",
    "                )\n",
    "            ]['revenue'],\n",
    "        )[1]\n",
    "    )\n",
    ")\n",
    "\n",
    "print(\n",
    "    'Относительный прирост = '\"{0:.3f}\".format(\n",
    "        orders[\n",
    "            np.logical_and(\n",
    "                orders['group'] == 'B',\n",
    "                np.logical_not(orders['visitorId'].isin(abnormalUsers)),\n",
    "            )\n",
    "        ]['revenue'].mean()\n",
    "        / orders[\n",
    "            np.logical_and(\n",
    "                orders['group'] == 'A',\n",
    "                np.logical_not(orders['visitorId'].isin(abnormalUsers)),\n",
    "            )\n",
    "        ]['revenue'].mean()\n",
    "        - 1\n",
    "    )\n",
    ")"
   ]
  },
  {
   "cell_type": "markdown",
   "metadata": {},
   "source": [
    "По «очищенным» данным различий в среднем чеке заказов групп A и B также нет. Измений относительного прироста среднего чека между группами нет."
   ]
  },
  {
   "cell_type": "markdown",
   "metadata": {},
   "source": [
    "**14. Необходимо принять решение по результатам теста. Варианты решений:**\n",
    "1. Остановить тест, зафиксировать победу одной из групп.\n",
    "2. Остановить тест, зафиксировать отсутствие различий между группами.\n",
    "3. Продолжить тест."
   ]
  },
  {
   "cell_type": "markdown",
   "metadata": {},
   "source": [
    "**ВЫВОД:**\n",
    "1. Подтвердилась статистическая значимость различий в среднем количестве заказов на посетителя между группами по \"сырым\" и \"очищенным\" данным. Относительный прирост в среднем количестве заказов на посетителя группы В составил 13.8% - по \"сырым\" и 15.3% по  \"очищенным\" данным.\n",
    "1. По \"сырым\" и \"очищенным\" данным статистической значимость различий и измений относительного прироста среднего чека в среднем чеке заказа групп А и В не выявлено. По \"сырым\" данным относительный прирост в среднем чеке заказа группы B составил 25.9%, большое влияние оказыли аномальные заказы. Что подтвердилось проверкой после \"очистки\" данных. \\\n",
    "\n",
    "**На основе полученных данных можно сделать вывод, об остановке тестирования и зафиксировать победу группы В (при одинаковом показателе среднего чека, группа В имеет на 15,3% выше среднее количество заказов).**"
   ]
  }
 ],
 "metadata": {
  "ExecuteTimeLog": [
   {
    "duration": 420,
    "start_time": "2023-09-14T08:40:17.218Z"
   },
   {
    "duration": 66,
    "start_time": "2023-09-14T08:40:19.900Z"
   },
   {
    "duration": 14,
    "start_time": "2023-09-14T08:40:21.251Z"
   },
   {
    "duration": 2216,
    "start_time": "2023-09-14T08:42:00.064Z"
   },
   {
    "duration": 11,
    "start_time": "2023-09-14T08:46:34.098Z"
   },
   {
    "duration": 4,
    "start_time": "2023-09-14T08:46:44.059Z"
   },
   {
    "duration": 7,
    "start_time": "2023-09-14T08:46:53.701Z"
   },
   {
    "duration": 3,
    "start_time": "2023-09-14T08:47:05.698Z"
   },
   {
    "duration": 8,
    "start_time": "2023-09-14T08:47:08.961Z"
   },
   {
    "duration": 1799,
    "start_time": "2023-09-14T08:47:19.336Z"
   },
   {
    "duration": 4,
    "start_time": "2023-09-14T08:47:29.800Z"
   },
   {
    "duration": 8,
    "start_time": "2023-09-14T08:47:31.663Z"
   },
   {
    "duration": 13,
    "start_time": "2023-09-14T08:47:34.190Z"
   },
   {
    "duration": 10,
    "start_time": "2023-09-14T08:48:06.378Z"
   },
   {
    "duration": 408,
    "start_time": "2023-09-14T08:48:30.807Z"
   },
   {
    "duration": 26,
    "start_time": "2023-09-14T08:48:31.217Z"
   },
   {
    "duration": 37,
    "start_time": "2023-09-14T08:48:31.245Z"
   },
   {
    "duration": 32,
    "start_time": "2023-09-14T08:48:31.285Z"
   },
   {
    "duration": 32,
    "start_time": "2023-09-14T08:48:31.318Z"
   },
   {
    "duration": 38,
    "start_time": "2023-09-14T08:48:31.351Z"
   },
   {
    "duration": 20,
    "start_time": "2023-09-14T08:48:31.391Z"
   },
   {
    "duration": 2,
    "start_time": "2023-09-14T08:49:23.306Z"
   },
   {
    "duration": 11,
    "start_time": "2023-09-14T08:51:58.159Z"
   },
   {
    "duration": 469,
    "start_time": "2023-09-14T08:52:03.722Z"
   },
   {
    "duration": 38,
    "start_time": "2023-09-14T08:52:04.193Z"
   },
   {
    "duration": 17,
    "start_time": "2023-09-14T08:52:04.233Z"
   },
   {
    "duration": 13,
    "start_time": "2023-09-14T08:52:04.252Z"
   },
   {
    "duration": 17,
    "start_time": "2023-09-14T08:52:04.267Z"
   },
   {
    "duration": 31,
    "start_time": "2023-09-14T08:52:04.286Z"
   },
   {
    "duration": 8,
    "start_time": "2023-09-14T08:52:49.980Z"
   },
   {
    "duration": 9,
    "start_time": "2023-09-14T15:44:26.619Z"
   },
   {
    "duration": 109,
    "start_time": "2023-09-14T15:57:55.189Z"
   },
   {
    "duration": 140,
    "start_time": "2023-09-14T15:58:32.067Z"
   },
   {
    "duration": 437,
    "start_time": "2023-09-14T15:59:53.262Z"
   },
   {
    "duration": 3,
    "start_time": "2023-09-14T16:00:06.017Z"
   },
   {
    "duration": 13,
    "start_time": "2023-09-14T16:00:31.542Z"
   },
   {
    "duration": 11,
    "start_time": "2023-09-14T16:00:51.423Z"
   },
   {
    "duration": 12,
    "start_time": "2023-09-14T16:02:06.139Z"
   },
   {
    "duration": 10,
    "start_time": "2023-09-14T16:02:10.994Z"
   },
   {
    "duration": 624,
    "start_time": "2023-09-14T16:03:59.454Z"
   },
   {
    "duration": 472,
    "start_time": "2023-09-14T16:04:51.555Z"
   },
   {
    "duration": 176,
    "start_time": "2023-09-14T16:05:12.435Z"
   },
   {
    "duration": 27,
    "start_time": "2023-09-14T16:05:28.588Z"
   },
   {
    "duration": 515,
    "start_time": "2023-09-14T16:06:12.762Z"
   },
   {
    "duration": 25,
    "start_time": "2023-09-14T16:08:29.159Z"
   },
   {
    "duration": 591,
    "start_time": "2023-09-14T16:11:03.981Z"
   },
   {
    "duration": 545,
    "start_time": "2023-09-14T16:13:58.195Z"
   },
   {
    "duration": 239,
    "start_time": "2023-09-14T16:16:00.554Z"
   },
   {
    "duration": 375,
    "start_time": "2023-09-14T16:16:45.430Z"
   },
   {
    "duration": 250,
    "start_time": "2023-09-14T18:02:31.114Z"
   },
   {
    "duration": 238,
    "start_time": "2023-09-14T18:02:34.867Z"
   },
   {
    "duration": 236,
    "start_time": "2023-09-14T18:03:07.822Z"
   },
   {
    "duration": 223,
    "start_time": "2023-09-14T18:03:17.651Z"
   },
   {
    "duration": 222,
    "start_time": "2023-09-14T18:05:00.683Z"
   },
   {
    "duration": 281,
    "start_time": "2023-09-14T18:05:40.682Z"
   },
   {
    "duration": 241,
    "start_time": "2023-09-14T18:12:01.987Z"
   },
   {
    "duration": 312,
    "start_time": "2023-09-14T18:15:39.999Z"
   },
   {
    "duration": 6,
    "start_time": "2023-09-14T18:20:56.397Z"
   },
   {
    "duration": 11,
    "start_time": "2023-09-14T18:21:04.983Z"
   },
   {
    "duration": 6,
    "start_time": "2023-09-14T18:21:12.050Z"
   },
   {
    "duration": 12,
    "start_time": "2023-09-14T18:21:51.565Z"
   },
   {
    "duration": 5,
    "start_time": "2023-09-14T18:21:55.843Z"
   },
   {
    "duration": 164,
    "start_time": "2023-09-14T18:22:10.998Z"
   },
   {
    "duration": 93,
    "start_time": "2023-09-14T18:22:25.341Z"
   },
   {
    "duration": 5,
    "start_time": "2023-09-14T18:24:25.603Z"
   },
   {
    "duration": 113,
    "start_time": "2023-09-14T18:27:32.142Z"
   },
   {
    "duration": 109,
    "start_time": "2023-09-14T18:27:41.969Z"
   },
   {
    "duration": 5,
    "start_time": "2023-09-14T18:28:31.475Z"
   },
   {
    "duration": 76,
    "start_time": "2023-09-15T09:41:24.766Z"
   },
   {
    "duration": 451,
    "start_time": "2023-09-15T09:41:33.116Z"
   },
   {
    "duration": 69,
    "start_time": "2023-09-15T09:41:33.569Z"
   },
   {
    "duration": 18,
    "start_time": "2023-09-15T09:41:33.640Z"
   },
   {
    "duration": 33,
    "start_time": "2023-09-15T09:41:33.660Z"
   },
   {
    "duration": 25,
    "start_time": "2023-09-15T09:41:33.694Z"
   },
   {
    "duration": 25,
    "start_time": "2023-09-15T09:41:33.721Z"
   },
   {
    "duration": 19,
    "start_time": "2023-09-15T09:41:33.748Z"
   },
   {
    "duration": 493,
    "start_time": "2023-09-15T09:41:33.769Z"
   },
   {
    "duration": 149,
    "start_time": "2023-09-15T09:41:34.264Z"
   },
   {
    "duration": 9,
    "start_time": "2023-09-15T09:41:34.417Z"
   },
   {
    "duration": 28,
    "start_time": "2023-09-15T09:41:34.428Z"
   },
   {
    "duration": 207,
    "start_time": "2023-09-15T09:41:34.458Z"
   },
   {
    "duration": 25,
    "start_time": "2023-09-15T09:41:34.668Z"
   },
   {
    "duration": 345,
    "start_time": "2023-09-15T09:41:34.696Z"
   },
   {
    "duration": 310,
    "start_time": "2023-09-15T09:41:35.042Z"
   },
   {
    "duration": 305,
    "start_time": "2023-09-15T09:41:35.354Z"
   },
   {
    "duration": 478,
    "start_time": "2023-09-15T09:41:35.661Z"
   },
   {
    "duration": 379,
    "start_time": "2023-09-15T09:41:36.141Z"
   },
   {
    "duration": 382,
    "start_time": "2023-09-15T09:41:36.523Z"
   },
   {
    "duration": 12,
    "start_time": "2023-09-15T09:41:36.907Z"
   },
   {
    "duration": 143,
    "start_time": "2023-09-15T09:41:36.921Z"
   },
   {
    "duration": 6,
    "start_time": "2023-09-15T09:41:37.066Z"
   },
   {
    "duration": 167,
    "start_time": "2023-09-15T09:41:37.074Z"
   },
   {
    "duration": 151,
    "start_time": "2023-09-15T09:41:37.243Z"
   },
   {
    "duration": 8,
    "start_time": "2023-09-15T09:41:37.396Z"
   },
   {
    "duration": 3,
    "start_time": "2023-09-15T09:52:12.617Z"
   },
   {
    "duration": 95,
    "start_time": "2023-09-15T09:53:11.387Z"
   },
   {
    "duration": 16,
    "start_time": "2023-09-15T09:53:43.355Z"
   },
   {
    "duration": 165,
    "start_time": "2023-09-15T09:54:20.447Z"
   },
   {
    "duration": 3159,
    "start_time": "2023-09-15T09:54:23.179Z"
   },
   {
    "duration": 132,
    "start_time": "2023-09-15T09:58:23.685Z"
   },
   {
    "duration": 123,
    "start_time": "2023-09-15T09:59:42.178Z"
   },
   {
    "duration": 179,
    "start_time": "2023-09-15T10:00:42.041Z"
   },
   {
    "duration": 170,
    "start_time": "2023-09-15T10:00:45.170Z"
   },
   {
    "duration": 258,
    "start_time": "2023-09-15T10:01:11.680Z"
   },
   {
    "duration": 174,
    "start_time": "2023-09-15T10:01:16.158Z"
   },
   {
    "duration": 14,
    "start_time": "2023-09-15T10:01:18.568Z"
   },
   {
    "duration": 554,
    "start_time": "2023-09-15T10:02:00.526Z"
   },
   {
    "duration": 428,
    "start_time": "2023-09-15T10:02:56.267Z"
   },
   {
    "duration": 39,
    "start_time": "2023-09-15T10:02:56.701Z"
   },
   {
    "duration": 104,
    "start_time": "2023-09-15T10:02:56.742Z"
   },
   {
    "duration": 35,
    "start_time": "2023-09-15T10:02:56.849Z"
   },
   {
    "duration": 32,
    "start_time": "2023-09-15T10:02:56.886Z"
   },
   {
    "duration": 23,
    "start_time": "2023-09-15T10:02:56.921Z"
   },
   {
    "duration": 16,
    "start_time": "2023-09-15T10:02:56.946Z"
   },
   {
    "duration": 904,
    "start_time": "2023-09-15T10:02:56.963Z"
   },
   {
    "duration": 79,
    "start_time": "2023-09-15T10:02:57.869Z"
   },
   {
    "duration": 10,
    "start_time": "2023-09-15T10:02:57.951Z"
   },
   {
    "duration": 28,
    "start_time": "2023-09-15T10:02:57.962Z"
   },
   {
    "duration": 27,
    "start_time": "2023-09-15T10:02:57.992Z"
   },
   {
    "duration": 20,
    "start_time": "2023-09-15T10:02:58.021Z"
   },
   {
    "duration": 383,
    "start_time": "2023-09-15T10:02:58.043Z"
   },
   {
    "duration": 341,
    "start_time": "2023-09-15T10:02:58.428Z"
   },
   {
    "duration": 305,
    "start_time": "2023-09-15T10:02:58.771Z"
   },
   {
    "duration": 413,
    "start_time": "2023-09-15T10:02:59.077Z"
   },
   {
    "duration": 319,
    "start_time": "2023-09-15T10:02:59.491Z"
   },
   {
    "duration": 395,
    "start_time": "2023-09-15T10:02:59.813Z"
   },
   {
    "duration": 10,
    "start_time": "2023-09-15T10:03:00.211Z"
   },
   {
    "duration": 205,
    "start_time": "2023-09-15T10:03:00.224Z"
   },
   {
    "duration": 5,
    "start_time": "2023-09-15T10:03:00.432Z"
   },
   {
    "duration": 196,
    "start_time": "2023-09-15T10:03:00.439Z"
   },
   {
    "duration": 5,
    "start_time": "2023-09-15T10:03:00.636Z"
   },
   {
    "duration": 297,
    "start_time": "2023-09-15T10:03:00.643Z"
   },
   {
    "duration": 151,
    "start_time": "2023-09-15T10:03:00.942Z"
   },
   {
    "duration": 49,
    "start_time": "2023-09-15T10:03:01.095Z"
   },
   {
    "duration": 44,
    "start_time": "2023-09-15T10:03:10.789Z"
   },
   {
    "duration": 414,
    "start_time": "2023-09-15T10:03:18.865Z"
   },
   {
    "duration": 50,
    "start_time": "2023-09-15T10:03:19.281Z"
   },
   {
    "duration": 21,
    "start_time": "2023-09-15T10:03:19.333Z"
   },
   {
    "duration": 27,
    "start_time": "2023-09-15T10:03:19.356Z"
   },
   {
    "duration": 26,
    "start_time": "2023-09-15T10:03:19.385Z"
   },
   {
    "duration": 28,
    "start_time": "2023-09-15T10:03:19.414Z"
   },
   {
    "duration": 88,
    "start_time": "2023-09-15T10:03:19.444Z"
   },
   {
    "duration": 1129,
    "start_time": "2023-09-15T10:03:19.534Z"
   },
   {
    "duration": 83,
    "start_time": "2023-09-15T10:03:20.664Z"
   },
   {
    "duration": 8,
    "start_time": "2023-09-15T10:03:20.750Z"
   },
   {
    "duration": 68,
    "start_time": "2023-09-15T10:03:20.760Z"
   },
   {
    "duration": 27,
    "start_time": "2023-09-15T10:03:20.830Z"
   },
   {
    "duration": 43,
    "start_time": "2023-09-15T10:03:20.859Z"
   },
   {
    "duration": 474,
    "start_time": "2023-09-15T10:03:20.905Z"
   },
   {
    "duration": 337,
    "start_time": "2023-09-15T10:03:21.381Z"
   },
   {
    "duration": 315,
    "start_time": "2023-09-15T10:03:21.720Z"
   },
   {
    "duration": 360,
    "start_time": "2023-09-15T10:03:22.037Z"
   },
   {
    "duration": 326,
    "start_time": "2023-09-15T10:03:22.401Z"
   },
   {
    "duration": 374,
    "start_time": "2023-09-15T10:03:22.729Z"
   },
   {
    "duration": 11,
    "start_time": "2023-09-15T10:03:23.109Z"
   },
   {
    "duration": 146,
    "start_time": "2023-09-15T10:03:23.122Z"
   },
   {
    "duration": 5,
    "start_time": "2023-09-15T10:03:23.270Z"
   },
   {
    "duration": 182,
    "start_time": "2023-09-15T10:03:23.277Z"
   },
   {
    "duration": 5,
    "start_time": "2023-09-15T10:03:23.462Z"
   },
   {
    "duration": 283,
    "start_time": "2023-09-15T10:03:23.469Z"
   },
   {
    "duration": 196,
    "start_time": "2023-09-15T10:03:23.754Z"
   },
   {
    "duration": 32,
    "start_time": "2023-09-15T10:03:23.952Z"
   },
   {
    "duration": 12,
    "start_time": "2023-09-15T10:03:49.135Z"
   },
   {
    "duration": 456,
    "start_time": "2023-09-18T11:08:11.155Z"
   },
   {
    "duration": 100,
    "start_time": "2023-09-18T11:08:11.613Z"
   },
   {
    "duration": 16,
    "start_time": "2023-09-18T11:08:11.715Z"
   },
   {
    "duration": 14,
    "start_time": "2023-09-18T11:08:11.733Z"
   },
   {
    "duration": 23,
    "start_time": "2023-09-18T11:08:11.749Z"
   },
   {
    "duration": 22,
    "start_time": "2023-09-18T11:08:11.774Z"
   },
   {
    "duration": 13,
    "start_time": "2023-09-18T11:08:11.797Z"
   },
   {
    "duration": 1032,
    "start_time": "2023-09-18T11:08:11.812Z"
   },
   {
    "duration": 143,
    "start_time": "2023-09-18T11:08:12.846Z"
   },
   {
    "duration": 9,
    "start_time": "2023-09-18T11:08:12.993Z"
   },
   {
    "duration": 35,
    "start_time": "2023-09-18T11:08:13.004Z"
   },
   {
    "duration": 34,
    "start_time": "2023-09-18T11:08:13.041Z"
   },
   {
    "duration": 14,
    "start_time": "2023-09-18T11:08:13.077Z"
   },
   {
    "duration": 282,
    "start_time": "2023-09-18T11:08:13.092Z"
   },
   {
    "duration": 286,
    "start_time": "2023-09-18T11:08:13.376Z"
   },
   {
    "duration": 285,
    "start_time": "2023-09-18T11:08:13.665Z"
   },
   {
    "duration": 413,
    "start_time": "2023-09-18T11:08:13.952Z"
   },
   {
    "duration": 272,
    "start_time": "2023-09-18T11:08:14.367Z"
   },
   {
    "duration": 388,
    "start_time": "2023-09-18T11:08:14.641Z"
   },
   {
    "duration": 9,
    "start_time": "2023-09-18T11:08:15.031Z"
   },
   {
    "duration": 188,
    "start_time": "2023-09-18T11:08:15.042Z"
   },
   {
    "duration": 6,
    "start_time": "2023-09-18T11:08:15.233Z"
   },
   {
    "duration": 156,
    "start_time": "2023-09-18T11:08:15.241Z"
   },
   {
    "duration": 5,
    "start_time": "2023-09-18T11:08:15.399Z"
   },
   {
    "duration": 226,
    "start_time": "2023-09-18T11:08:15.406Z"
   },
   {
    "duration": 155,
    "start_time": "2023-09-18T11:08:15.634Z"
   },
   {
    "duration": 35,
    "start_time": "2023-09-18T11:08:15.791Z"
   },
   {
    "duration": 29,
    "start_time": "2023-09-18T11:08:15.830Z"
   },
   {
    "duration": 14,
    "start_time": "2023-09-18T11:10:28.891Z"
   },
   {
    "duration": 11,
    "start_time": "2023-09-18T11:10:52.288Z"
   },
   {
    "duration": 11,
    "start_time": "2023-09-18T11:10:56.865Z"
   },
   {
    "duration": 30,
    "start_time": "2023-09-18T11:11:39.600Z"
   },
   {
    "duration": 141,
    "start_time": "2023-09-18T11:12:29.034Z"
   },
   {
    "duration": 7,
    "start_time": "2023-09-18T11:26:09.807Z"
   },
   {
    "duration": 102,
    "start_time": "2023-09-18T11:27:08.039Z"
   },
   {
    "duration": 1866,
    "start_time": "2023-09-18T11:27:22.732Z"
   },
   {
    "duration": 2541,
    "start_time": "2023-09-18T11:27:59.343Z"
   },
   {
    "duration": 1886,
    "start_time": "2023-09-18T11:29:15.640Z"
   },
   {
    "duration": 5,
    "start_time": "2023-09-18T11:29:24.147Z"
   },
   {
    "duration": 8,
    "start_time": "2023-09-18T11:31:02.482Z"
   },
   {
    "duration": 7,
    "start_time": "2023-09-18T11:31:17.085Z"
   },
   {
    "duration": 7,
    "start_time": "2023-09-18T11:31:25.644Z"
   },
   {
    "duration": 4,
    "start_time": "2023-09-18T11:31:29.291Z"
   },
   {
    "duration": 194,
    "start_time": "2023-09-18T11:31:41.914Z"
   },
   {
    "duration": 6,
    "start_time": "2023-09-18T11:31:53.795Z"
   },
   {
    "duration": 8,
    "start_time": "2023-09-18T11:32:09.769Z"
   },
   {
    "duration": 20,
    "start_time": "2023-09-18T11:32:34.160Z"
   },
   {
    "duration": 17,
    "start_time": "2023-09-18T11:32:39.556Z"
   },
   {
    "duration": 16,
    "start_time": "2023-09-18T11:32:44.775Z"
   },
   {
    "duration": 6,
    "start_time": "2023-09-18T11:33:38.428Z"
   },
   {
    "duration": 6,
    "start_time": "2023-09-18T11:35:06.112Z"
   },
   {
    "duration": 11,
    "start_time": "2023-09-18T11:35:26.574Z"
   },
   {
    "duration": 28,
    "start_time": "2023-09-18T11:36:13.315Z"
   },
   {
    "duration": 2390,
    "start_time": "2023-09-18T11:39:30.572Z"
   },
   {
    "duration": 17,
    "start_time": "2023-09-18T11:40:33.593Z"
   },
   {
    "duration": 21,
    "start_time": "2023-09-18T11:40:51.481Z"
   },
   {
    "duration": 26,
    "start_time": "2023-09-18T11:41:01.996Z"
   },
   {
    "duration": 15,
    "start_time": "2023-09-18T11:41:11.945Z"
   },
   {
    "duration": 117,
    "start_time": "2023-09-18T11:54:40.126Z"
   },
   {
    "duration": 221,
    "start_time": "2023-09-18T11:54:59.707Z"
   },
   {
    "duration": 148,
    "start_time": "2023-09-18T11:55:23.994Z"
   },
   {
    "duration": 153,
    "start_time": "2023-09-18T11:57:45.028Z"
   },
   {
    "duration": 167,
    "start_time": "2023-09-18T11:57:53.440Z"
   },
   {
    "duration": 154,
    "start_time": "2023-09-18T11:58:28.416Z"
   },
   {
    "duration": 144,
    "start_time": "2023-09-18T11:58:46.075Z"
   },
   {
    "duration": 145,
    "start_time": "2023-09-18T11:58:51.648Z"
   },
   {
    "duration": 151,
    "start_time": "2023-09-18T12:00:54.923Z"
   },
   {
    "duration": 153,
    "start_time": "2023-09-18T12:01:00.320Z"
   },
   {
    "duration": 191,
    "start_time": "2023-09-18T12:01:35.566Z"
   },
   {
    "duration": 170,
    "start_time": "2023-09-18T12:01:50.802Z"
   },
   {
    "duration": 166,
    "start_time": "2023-09-18T12:01:59.521Z"
   },
   {
    "duration": 356,
    "start_time": "2023-09-18T12:02:10.629Z"
   },
   {
    "duration": 158,
    "start_time": "2023-09-18T12:02:22.977Z"
   },
   {
    "duration": 157,
    "start_time": "2023-09-18T12:03:03.485Z"
   },
   {
    "duration": 12,
    "start_time": "2023-09-18T12:05:53.282Z"
   },
   {
    "duration": 13,
    "start_time": "2023-09-18T12:05:59.645Z"
   },
   {
    "duration": 540,
    "start_time": "2023-09-18T12:41:20.058Z"
   },
   {
    "duration": 6,
    "start_time": "2023-09-18T12:42:05.735Z"
   },
   {
    "duration": 12,
    "start_time": "2023-09-18T12:42:13.904Z"
   },
   {
    "duration": 5,
    "start_time": "2023-09-18T12:42:35.943Z"
   },
   {
    "duration": 12,
    "start_time": "2023-09-18T12:42:38.586Z"
   },
   {
    "duration": 453,
    "start_time": "2023-09-18T12:43:00.082Z"
   },
   {
    "duration": 41,
    "start_time": "2023-09-18T12:43:00.538Z"
   },
   {
    "duration": 71,
    "start_time": "2023-09-18T12:43:00.583Z"
   },
   {
    "duration": 73,
    "start_time": "2023-09-18T12:43:00.656Z"
   },
   {
    "duration": 50,
    "start_time": "2023-09-18T12:43:00.732Z"
   },
   {
    "duration": 25,
    "start_time": "2023-09-18T12:43:00.786Z"
   },
   {
    "duration": 54,
    "start_time": "2023-09-18T12:43:00.814Z"
   },
   {
    "duration": 927,
    "start_time": "2023-09-18T12:43:00.870Z"
   },
   {
    "duration": 83,
    "start_time": "2023-09-18T12:43:01.798Z"
   },
   {
    "duration": 11,
    "start_time": "2023-09-18T12:43:01.883Z"
   },
   {
    "duration": 34,
    "start_time": "2023-09-18T12:43:01.896Z"
   },
   {
    "duration": 33,
    "start_time": "2023-09-18T12:43:01.932Z"
   },
   {
    "duration": 24,
    "start_time": "2023-09-18T12:43:01.967Z"
   },
   {
    "duration": 76,
    "start_time": "2023-09-18T12:43:01.995Z"
   },
   {
    "duration": 24,
    "start_time": "2023-09-18T12:43:02.076Z"
   },
   {
    "duration": 468,
    "start_time": "2023-09-18T12:43:02.102Z"
   },
   {
    "duration": 319,
    "start_time": "2023-09-18T12:43:02.581Z"
   },
   {
    "duration": 298,
    "start_time": "2023-09-18T12:43:02.902Z"
   },
   {
    "duration": 391,
    "start_time": "2023-09-18T12:43:03.202Z"
   },
   {
    "duration": 303,
    "start_time": "2023-09-18T12:43:03.595Z"
   },
   {
    "duration": 366,
    "start_time": "2023-09-18T12:43:03.900Z"
   },
   {
    "duration": 14,
    "start_time": "2023-09-18T12:43:04.269Z"
   },
   {
    "duration": 155,
    "start_time": "2023-09-18T12:43:04.287Z"
   },
   {
    "duration": 25,
    "start_time": "2023-09-18T12:43:04.444Z"
   },
   {
    "duration": 163,
    "start_time": "2023-09-18T12:43:04.477Z"
   },
   {
    "duration": 5,
    "start_time": "2023-09-18T12:43:04.642Z"
   },
   {
    "duration": 254,
    "start_time": "2023-09-18T12:43:04.660Z"
   },
   {
    "duration": 177,
    "start_time": "2023-09-18T12:43:04.916Z"
   },
   {
    "duration": 30,
    "start_time": "2023-09-18T12:43:05.095Z"
   },
   {
    "duration": 12,
    "start_time": "2023-09-18T12:43:05.127Z"
   },
   {
    "duration": 16,
    "start_time": "2023-09-18T12:43:05.158Z"
   },
   {
    "duration": 15,
    "start_time": "2023-09-18T12:43:05.176Z"
   },
   {
    "duration": 12,
    "start_time": "2023-09-18T12:43:05.193Z"
   },
   {
    "duration": 32,
    "start_time": "2023-09-18T12:43:05.207Z"
   },
   {
    "duration": 69,
    "start_time": "2023-09-18T12:43:05.241Z"
   },
   {
    "duration": 15,
    "start_time": "2023-09-18T12:43:05.311Z"
   },
   {
    "duration": 318,
    "start_time": "2023-09-18T12:44:40.991Z"
   },
   {
    "duration": 110,
    "start_time": "2023-09-18T12:45:26.404Z"
   },
   {
    "duration": 318,
    "start_time": "2023-09-18T12:45:35.197Z"
   },
   {
    "duration": 419,
    "start_time": "2023-09-18T12:46:06.683Z"
   },
   {
    "duration": 401,
    "start_time": "2023-09-18T12:46:30.884Z"
   },
   {
    "duration": 293,
    "start_time": "2023-09-18T12:46:39.445Z"
   },
   {
    "duration": 338,
    "start_time": "2023-09-18T12:46:51.876Z"
   },
   {
    "duration": 335,
    "start_time": "2023-09-18T12:47:03.382Z"
   },
   {
    "duration": 442,
    "start_time": "2023-09-18T12:47:21.038Z"
   },
   {
    "duration": 425,
    "start_time": "2023-09-18T12:50:27.257Z"
   },
   {
    "duration": 336,
    "start_time": "2023-09-18T12:50:42.803Z"
   },
   {
    "duration": 319,
    "start_time": "2023-09-18T12:51:22.440Z"
   },
   {
    "duration": 392,
    "start_time": "2023-09-18T12:53:33.586Z"
   },
   {
    "duration": 5,
    "start_time": "2023-09-18T13:34:00.934Z"
   },
   {
    "duration": 11,
    "start_time": "2023-09-18T13:34:03.068Z"
   },
   {
    "duration": 423,
    "start_time": "2023-09-18T13:34:07.080Z"
   },
   {
    "duration": 430,
    "start_time": "2023-09-18T13:38:29.992Z"
   },
   {
    "duration": 29,
    "start_time": "2023-09-18T13:38:30.424Z"
   },
   {
    "duration": 37,
    "start_time": "2023-09-18T13:38:30.455Z"
   },
   {
    "duration": 27,
    "start_time": "2023-09-18T13:38:30.494Z"
   },
   {
    "duration": 70,
    "start_time": "2023-09-18T13:38:30.523Z"
   },
   {
    "duration": 55,
    "start_time": "2023-09-18T13:38:30.595Z"
   },
   {
    "duration": 52,
    "start_time": "2023-09-18T13:38:30.652Z"
   },
   {
    "duration": 48,
    "start_time": "2023-09-18T13:38:30.706Z"
   },
   {
    "duration": 881,
    "start_time": "2023-09-18T13:38:30.756Z"
   },
   {
    "duration": 66,
    "start_time": "2023-09-18T13:38:31.640Z"
   },
   {
    "duration": 9,
    "start_time": "2023-09-18T13:38:31.708Z"
   },
   {
    "duration": 23,
    "start_time": "2023-09-18T13:38:31.718Z"
   },
   {
    "duration": 26,
    "start_time": "2023-09-18T13:38:31.743Z"
   },
   {
    "duration": 13,
    "start_time": "2023-09-18T13:38:31.770Z"
   },
   {
    "duration": 323,
    "start_time": "2023-09-18T13:38:31.785Z"
   },
   {
    "duration": 326,
    "start_time": "2023-09-18T13:38:32.110Z"
   },
   {
    "duration": 318,
    "start_time": "2023-09-18T13:38:32.438Z"
   },
   {
    "duration": 403,
    "start_time": "2023-09-18T13:38:32.758Z"
   },
   {
    "duration": 310,
    "start_time": "2023-09-18T13:38:33.164Z"
   },
   {
    "duration": 416,
    "start_time": "2023-09-18T13:38:33.476Z"
   },
   {
    "duration": 7,
    "start_time": "2023-09-18T13:38:33.894Z"
   },
   {
    "duration": 147,
    "start_time": "2023-09-18T13:38:33.903Z"
   },
   {
    "duration": 5,
    "start_time": "2023-09-18T13:38:34.056Z"
   },
   {
    "duration": 155,
    "start_time": "2023-09-18T13:38:34.062Z"
   },
   {
    "duration": 4,
    "start_time": "2023-09-18T13:38:34.219Z"
   },
   {
    "duration": 232,
    "start_time": "2023-09-18T13:38:34.225Z"
   },
   {
    "duration": 137,
    "start_time": "2023-09-18T13:38:34.459Z"
   },
   {
    "duration": 31,
    "start_time": "2023-09-18T13:38:34.599Z"
   },
   {
    "duration": 28,
    "start_time": "2023-09-18T13:38:34.632Z"
   },
   {
    "duration": 7,
    "start_time": "2023-09-18T13:38:34.661Z"
   },
   {
    "duration": 8,
    "start_time": "2023-09-18T13:38:34.669Z"
   },
   {
    "duration": 7,
    "start_time": "2023-09-18T13:38:34.679Z"
   },
   {
    "duration": 19,
    "start_time": "2023-09-18T13:38:34.688Z"
   },
   {
    "duration": 26,
    "start_time": "2023-09-18T13:38:34.708Z"
   },
   {
    "duration": 32,
    "start_time": "2023-09-18T13:38:34.736Z"
   },
   {
    "duration": 13,
    "start_time": "2023-09-18T13:38:56.501Z"
   },
   {
    "duration": 397,
    "start_time": "2023-09-18T13:40:21.614Z"
   },
   {
    "duration": 29,
    "start_time": "2023-09-18T13:40:22.013Z"
   },
   {
    "duration": 15,
    "start_time": "2023-09-18T13:40:22.044Z"
   },
   {
    "duration": 13,
    "start_time": "2023-09-18T13:40:22.061Z"
   },
   {
    "duration": 17,
    "start_time": "2023-09-18T13:40:22.076Z"
   },
   {
    "duration": 11,
    "start_time": "2023-09-18T13:40:22.094Z"
   },
   {
    "duration": 9,
    "start_time": "2023-09-18T13:40:22.107Z"
   },
   {
    "duration": 846,
    "start_time": "2023-09-18T13:40:22.117Z"
   },
   {
    "duration": 57,
    "start_time": "2023-09-18T13:40:22.964Z"
   },
   {
    "duration": 9,
    "start_time": "2023-09-18T13:40:23.025Z"
   },
   {
    "duration": 21,
    "start_time": "2023-09-18T13:40:23.035Z"
   },
   {
    "duration": 37,
    "start_time": "2023-09-18T13:40:23.058Z"
   },
   {
    "duration": 40,
    "start_time": "2023-09-18T13:40:23.097Z"
   },
   {
    "duration": 305,
    "start_time": "2023-09-18T13:40:23.139Z"
   },
   {
    "duration": 337,
    "start_time": "2023-09-18T13:40:23.445Z"
   },
   {
    "duration": 311,
    "start_time": "2023-09-18T13:40:23.784Z"
   },
   {
    "duration": 370,
    "start_time": "2023-09-18T13:40:24.096Z"
   },
   {
    "duration": 304,
    "start_time": "2023-09-18T13:40:24.468Z"
   },
   {
    "duration": 397,
    "start_time": "2023-09-18T13:40:24.774Z"
   },
   {
    "duration": 7,
    "start_time": "2023-09-18T13:40:25.173Z"
   },
   {
    "duration": 145,
    "start_time": "2023-09-18T13:40:25.181Z"
   },
   {
    "duration": 4,
    "start_time": "2023-09-18T13:40:25.328Z"
   },
   {
    "duration": 179,
    "start_time": "2023-09-18T13:40:25.334Z"
   },
   {
    "duration": 5,
    "start_time": "2023-09-18T13:40:25.515Z"
   },
   {
    "duration": 245,
    "start_time": "2023-09-18T13:40:25.522Z"
   },
   {
    "duration": 307,
    "start_time": "2023-09-18T13:40:25.769Z"
   },
   {
    "duration": 34,
    "start_time": "2023-09-18T13:40:26.078Z"
   },
   {
    "duration": 12,
    "start_time": "2023-09-18T13:40:26.116Z"
   },
   {
    "duration": 29,
    "start_time": "2023-09-18T13:40:26.130Z"
   },
   {
    "duration": 240,
    "start_time": "2023-09-18T13:40:26.161Z"
   },
   {
    "duration": 76,
    "start_time": "2023-09-18T13:40:26.403Z"
   },
   {
    "duration": 31,
    "start_time": "2023-09-18T13:40:26.481Z"
   },
   {
    "duration": 60,
    "start_time": "2023-09-18T13:40:26.514Z"
   },
   {
    "duration": 15,
    "start_time": "2023-09-18T13:40:26.576Z"
   },
   {
    "duration": 12,
    "start_time": "2023-09-18T13:43:40.239Z"
   },
   {
    "duration": 12,
    "start_time": "2023-09-18T13:43:42.529Z"
   },
   {
    "duration": 591,
    "start_time": "2023-09-18T13:44:39.080Z"
   },
   {
    "duration": 7,
    "start_time": "2023-09-18T13:45:31.045Z"
   },
   {
    "duration": 12,
    "start_time": "2023-09-18T13:47:49.255Z"
   },
   {
    "duration": 6,
    "start_time": "2023-09-18T13:49:19.310Z"
   },
   {
    "duration": 496,
    "start_time": "2023-09-18T13:49:37.307Z"
   },
   {
    "duration": 548,
    "start_time": "2023-09-18T13:50:04.543Z"
   },
   {
    "duration": 517,
    "start_time": "2023-09-18T13:50:25.963Z"
   },
   {
    "duration": 449,
    "start_time": "2023-09-18T13:50:31.819Z"
   },
   {
    "duration": 29,
    "start_time": "2023-09-18T13:50:32.271Z"
   },
   {
    "duration": 411,
    "start_time": "2023-09-18T13:50:32.302Z"
   },
   {
    "duration": 105,
    "start_time": "2023-09-18T13:50:32.716Z"
   },
   {
    "duration": 65,
    "start_time": "2023-09-18T13:50:32.824Z"
   },
   {
    "duration": 88,
    "start_time": "2023-09-18T13:50:32.891Z"
   },
   {
    "duration": 37,
    "start_time": "2023-09-18T13:50:32.981Z"
   },
   {
    "duration": 842,
    "start_time": "2023-09-18T13:50:33.020Z"
   },
   {
    "duration": 67,
    "start_time": "2023-09-18T13:50:33.864Z"
   },
   {
    "duration": 9,
    "start_time": "2023-09-18T13:50:33.936Z"
   },
   {
    "duration": 40,
    "start_time": "2023-09-18T13:50:33.946Z"
   },
   {
    "duration": 59,
    "start_time": "2023-09-18T13:50:33.988Z"
   },
   {
    "duration": 37,
    "start_time": "2023-09-18T13:50:34.049Z"
   },
   {
    "duration": 39,
    "start_time": "2023-09-18T13:50:34.088Z"
   },
   {
    "duration": 32,
    "start_time": "2023-09-18T13:50:34.129Z"
   },
   {
    "duration": 302,
    "start_time": "2023-09-18T13:50:34.163Z"
   },
   {
    "duration": 313,
    "start_time": "2023-09-18T13:50:34.467Z"
   },
   {
    "duration": 244,
    "start_time": "2023-09-18T13:50:34.781Z"
   },
   {
    "duration": 355,
    "start_time": "2023-09-18T13:50:35.027Z"
   },
   {
    "duration": 236,
    "start_time": "2023-09-18T13:50:35.384Z"
   },
   {
    "duration": 351,
    "start_time": "2023-09-18T13:50:35.622Z"
   },
   {
    "duration": 7,
    "start_time": "2023-09-18T13:50:35.975Z"
   },
   {
    "duration": 190,
    "start_time": "2023-09-18T13:50:35.984Z"
   },
   {
    "duration": 4,
    "start_time": "2023-09-18T13:50:36.176Z"
   },
   {
    "duration": 179,
    "start_time": "2023-09-18T13:50:36.182Z"
   },
   {
    "duration": 5,
    "start_time": "2023-09-18T13:50:36.364Z"
   },
   {
    "duration": 254,
    "start_time": "2023-09-18T13:50:36.371Z"
   },
   {
    "duration": 164,
    "start_time": "2023-09-18T13:50:36.631Z"
   },
   {
    "duration": 34,
    "start_time": "2023-09-18T13:50:36.797Z"
   },
   {
    "duration": 27,
    "start_time": "2023-09-18T13:50:36.833Z"
   },
   {
    "duration": 7,
    "start_time": "2023-09-18T13:50:36.862Z"
   },
   {
    "duration": 21,
    "start_time": "2023-09-18T13:50:36.870Z"
   },
   {
    "duration": 54,
    "start_time": "2023-09-18T13:50:36.893Z"
   },
   {
    "duration": 34,
    "start_time": "2023-09-18T13:50:36.950Z"
   },
   {
    "duration": 44,
    "start_time": "2023-09-18T13:50:36.986Z"
   },
   {
    "duration": 16,
    "start_time": "2023-09-18T13:50:37.032Z"
   },
   {
    "duration": 285,
    "start_time": "2023-09-18T13:52:45.528Z"
   },
   {
    "duration": 309,
    "start_time": "2023-09-18T13:54:47.673Z"
   },
   {
    "duration": 134,
    "start_time": "2023-09-18T14:00:31.463Z"
   },
   {
    "duration": 247,
    "start_time": "2023-09-18T14:00:59.121Z"
   },
   {
    "duration": 533,
    "start_time": "2023-09-18T15:03:34.272Z"
   },
   {
    "duration": 69,
    "start_time": "2023-09-18T15:03:34.808Z"
   },
   {
    "duration": 18,
    "start_time": "2023-09-18T15:03:34.880Z"
   },
   {
    "duration": 59,
    "start_time": "2023-09-18T15:03:34.900Z"
   },
   {
    "duration": 49,
    "start_time": "2023-09-18T15:03:34.962Z"
   },
   {
    "duration": 35,
    "start_time": "2023-09-18T15:03:35.014Z"
   },
   {
    "duration": 28,
    "start_time": "2023-09-18T15:03:35.050Z"
   },
   {
    "duration": 1200,
    "start_time": "2023-09-18T15:03:35.081Z"
   },
   {
    "duration": 144,
    "start_time": "2023-09-18T15:03:36.283Z"
   },
   {
    "duration": 9,
    "start_time": "2023-09-18T15:03:36.429Z"
   },
   {
    "duration": 92,
    "start_time": "2023-09-18T15:03:36.440Z"
   },
   {
    "duration": 25,
    "start_time": "2023-09-18T15:03:36.534Z"
   },
   {
    "duration": 43,
    "start_time": "2023-09-18T15:03:36.561Z"
   },
   {
    "duration": 27,
    "start_time": "2023-09-18T15:03:36.609Z"
   },
   {
    "duration": 23,
    "start_time": "2023-09-18T15:03:36.638Z"
   },
   {
    "duration": 398,
    "start_time": "2023-09-18T15:03:36.663Z"
   },
   {
    "duration": 400,
    "start_time": "2023-09-18T15:03:37.063Z"
   },
   {
    "duration": 262,
    "start_time": "2023-09-18T15:03:37.465Z"
   },
   {
    "duration": 413,
    "start_time": "2023-09-18T15:03:37.729Z"
   },
   {
    "duration": 296,
    "start_time": "2023-09-18T15:03:38.144Z"
   },
   {
    "duration": 384,
    "start_time": "2023-09-18T15:03:38.443Z"
   },
   {
    "duration": 9,
    "start_time": "2023-09-18T15:03:38.830Z"
   },
   {
    "duration": 193,
    "start_time": "2023-09-18T15:03:38.842Z"
   },
   {
    "duration": 6,
    "start_time": "2023-09-18T15:03:39.037Z"
   },
   {
    "duration": 220,
    "start_time": "2023-09-18T15:03:39.045Z"
   },
   {
    "duration": 6,
    "start_time": "2023-09-18T15:03:39.267Z"
   },
   {
    "duration": 398,
    "start_time": "2023-09-18T15:03:39.275Z"
   },
   {
    "duration": 213,
    "start_time": "2023-09-18T15:03:39.675Z"
   },
   {
    "duration": 56,
    "start_time": "2023-09-18T15:03:39.891Z"
   },
   {
    "duration": 16,
    "start_time": "2023-09-18T15:03:39.950Z"
   },
   {
    "duration": 35,
    "start_time": "2023-09-18T15:03:39.969Z"
   },
   {
    "duration": 57,
    "start_time": "2023-09-18T15:03:40.006Z"
   },
   {
    "duration": 46,
    "start_time": "2023-09-18T15:03:40.065Z"
   },
   {
    "duration": 28,
    "start_time": "2023-09-18T15:03:40.116Z"
   },
   {
    "duration": 69,
    "start_time": "2023-09-18T15:03:40.146Z"
   },
   {
    "duration": 23,
    "start_time": "2023-09-18T15:03:40.218Z"
   },
   {
    "duration": 457,
    "start_time": "2023-09-18T15:04:22.793Z"
   },
   {
    "duration": 27,
    "start_time": "2023-09-18T15:04:23.252Z"
   },
   {
    "duration": 51,
    "start_time": "2023-09-18T15:04:23.281Z"
   },
   {
    "duration": 15,
    "start_time": "2023-09-18T15:04:23.334Z"
   },
   {
    "duration": 15,
    "start_time": "2023-09-18T15:04:23.351Z"
   },
   {
    "duration": 22,
    "start_time": "2023-09-18T15:04:23.368Z"
   },
   {
    "duration": 31,
    "start_time": "2023-09-18T15:04:23.392Z"
   },
   {
    "duration": 776,
    "start_time": "2023-09-18T15:04:23.428Z"
   },
   {
    "duration": 53,
    "start_time": "2023-09-18T15:04:24.206Z"
   },
   {
    "duration": 16,
    "start_time": "2023-09-18T15:04:24.262Z"
   },
   {
    "duration": 48,
    "start_time": "2023-09-18T15:04:24.280Z"
   },
   {
    "duration": 27,
    "start_time": "2023-09-18T15:04:24.331Z"
   },
   {
    "duration": 36,
    "start_time": "2023-09-18T15:04:24.361Z"
   },
   {
    "duration": 32,
    "start_time": "2023-09-18T15:04:24.399Z"
   },
   {
    "duration": 25,
    "start_time": "2023-09-18T15:04:24.433Z"
   },
   {
    "duration": 446,
    "start_time": "2023-09-18T15:04:24.460Z"
   },
   {
    "duration": 372,
    "start_time": "2023-09-18T15:04:24.908Z"
   },
   {
    "duration": 282,
    "start_time": "2023-09-18T15:04:25.282Z"
   },
   {
    "duration": 399,
    "start_time": "2023-09-18T15:04:25.567Z"
   },
   {
    "duration": 256,
    "start_time": "2023-09-18T15:04:25.968Z"
   },
   {
    "duration": 345,
    "start_time": "2023-09-18T15:04:26.227Z"
   },
   {
    "duration": 7,
    "start_time": "2023-09-18T15:04:26.574Z"
   },
   {
    "duration": 199,
    "start_time": "2023-09-18T15:04:26.583Z"
   },
   {
    "duration": 6,
    "start_time": "2023-09-18T15:04:26.784Z"
   },
   {
    "duration": 220,
    "start_time": "2023-09-18T15:04:26.804Z"
   },
   {
    "duration": 5,
    "start_time": "2023-09-18T15:04:27.028Z"
   },
   {
    "duration": 321,
    "start_time": "2023-09-18T15:04:27.035Z"
   },
   {
    "duration": 198,
    "start_time": "2023-09-18T15:04:27.359Z"
   },
   {
    "duration": 46,
    "start_time": "2023-09-18T15:04:27.559Z"
   },
   {
    "duration": 17,
    "start_time": "2023-09-18T15:04:27.607Z"
   },
   {
    "duration": 8,
    "start_time": "2023-09-18T15:04:27.626Z"
   },
   {
    "duration": 59,
    "start_time": "2023-09-18T15:04:27.636Z"
   },
   {
    "duration": 46,
    "start_time": "2023-09-18T15:04:27.697Z"
   },
   {
    "duration": 38,
    "start_time": "2023-09-18T15:04:27.745Z"
   },
   {
    "duration": 71,
    "start_time": "2023-09-18T15:04:27.785Z"
   },
   {
    "duration": 20,
    "start_time": "2023-09-18T15:04:27.858Z"
   },
   {
    "duration": 437,
    "start_time": "2023-09-18T15:28:01.765Z"
   },
   {
    "duration": 30,
    "start_time": "2023-09-18T15:28:02.205Z"
   },
   {
    "duration": 140,
    "start_time": "2023-09-18T15:28:02.237Z"
   },
   {
    "duration": 32,
    "start_time": "2023-09-18T15:28:02.380Z"
   },
   {
    "duration": 45,
    "start_time": "2023-09-18T15:28:02.414Z"
   },
   {
    "duration": 14,
    "start_time": "2023-09-18T15:28:02.461Z"
   },
   {
    "duration": 24,
    "start_time": "2023-09-18T15:28:02.477Z"
   },
   {
    "duration": 892,
    "start_time": "2023-09-18T15:28:02.503Z"
   },
   {
    "duration": 66,
    "start_time": "2023-09-18T15:28:03.397Z"
   },
   {
    "duration": 10,
    "start_time": "2023-09-18T15:28:03.467Z"
   },
   {
    "duration": 119,
    "start_time": "2023-09-18T15:28:03.479Z"
   },
   {
    "duration": 38,
    "start_time": "2023-09-18T15:28:03.601Z"
   },
   {
    "duration": 45,
    "start_time": "2023-09-18T15:28:03.641Z"
   },
   {
    "duration": 12,
    "start_time": "2023-09-18T15:28:03.688Z"
   },
   {
    "duration": 28,
    "start_time": "2023-09-18T15:28:03.702Z"
   },
   {
    "duration": 302,
    "start_time": "2023-09-18T15:28:03.732Z"
   },
   {
    "duration": 326,
    "start_time": "2023-09-18T15:28:04.036Z"
   },
   {
    "duration": 232,
    "start_time": "2023-09-18T15:28:04.364Z"
   },
   {
    "duration": 309,
    "start_time": "2023-09-18T15:28:04.597Z"
   },
   {
    "duration": 240,
    "start_time": "2023-09-18T15:28:04.908Z"
   },
   {
    "duration": 332,
    "start_time": "2023-09-18T15:28:05.150Z"
   },
   {
    "duration": 7,
    "start_time": "2023-09-18T15:28:05.483Z"
   },
   {
    "duration": 180,
    "start_time": "2023-09-18T15:28:05.492Z"
   },
   {
    "duration": 5,
    "start_time": "2023-09-18T15:28:05.674Z"
   },
   {
    "duration": 182,
    "start_time": "2023-09-18T15:28:05.681Z"
   },
   {
    "duration": 5,
    "start_time": "2023-09-18T15:28:05.865Z"
   },
   {
    "duration": 293,
    "start_time": "2023-09-18T15:28:05.872Z"
   },
   {
    "duration": 233,
    "start_time": "2023-09-18T15:28:06.168Z"
   },
   {
    "duration": 32,
    "start_time": "2023-09-18T15:28:06.402Z"
   },
   {
    "duration": 27,
    "start_time": "2023-09-18T15:28:06.436Z"
   },
   {
    "duration": 6,
    "start_time": "2023-09-18T15:28:06.466Z"
   },
   {
    "duration": 9,
    "start_time": "2023-09-18T15:28:06.474Z"
   },
   {
    "duration": 9,
    "start_time": "2023-09-18T15:28:06.485Z"
   },
   {
    "duration": 12,
    "start_time": "2023-09-18T15:28:06.496Z"
   },
   {
    "duration": 52,
    "start_time": "2023-09-18T15:28:06.510Z"
   },
   {
    "duration": 16,
    "start_time": "2023-09-18T15:28:06.563Z"
   },
   {
    "duration": 3,
    "start_time": "2023-09-18T15:29:21.511Z"
   },
   {
    "duration": 11,
    "start_time": "2023-09-18T15:29:27.214Z"
   },
   {
    "duration": 13,
    "start_time": "2023-09-18T15:29:40.545Z"
   },
   {
    "duration": 10,
    "start_time": "2023-09-18T15:29:44.283Z"
   },
   {
    "duration": 102,
    "start_time": "2023-09-18T15:30:37.645Z"
   },
   {
    "duration": 12,
    "start_time": "2023-09-18T15:31:14.421Z"
   },
   {
    "duration": 11,
    "start_time": "2023-09-18T15:32:08.432Z"
   },
   {
    "duration": 10,
    "start_time": "2023-09-18T15:32:24.006Z"
   },
   {
    "duration": 7,
    "start_time": "2023-09-18T15:45:39.831Z"
   },
   {
    "duration": 6,
    "start_time": "2023-09-18T15:46:02.715Z"
   },
   {
    "duration": 416,
    "start_time": "2023-09-20T09:32:56.521Z"
   },
   {
    "duration": 60,
    "start_time": "2023-09-20T09:32:56.940Z"
   },
   {
    "duration": 19,
    "start_time": "2023-09-20T09:32:57.002Z"
   },
   {
    "duration": 16,
    "start_time": "2023-09-20T09:32:57.024Z"
   },
   {
    "duration": 33,
    "start_time": "2023-09-20T09:32:57.042Z"
   },
   {
    "duration": 18,
    "start_time": "2023-09-20T09:32:57.077Z"
   },
   {
    "duration": 21,
    "start_time": "2023-09-20T09:32:57.101Z"
   },
   {
    "duration": 1039,
    "start_time": "2023-09-20T09:32:57.124Z"
   },
   {
    "duration": 147,
    "start_time": "2023-09-20T09:32:58.165Z"
   },
   {
    "duration": 9,
    "start_time": "2023-09-20T09:32:58.315Z"
   },
   {
    "duration": 36,
    "start_time": "2023-09-20T09:32:58.326Z"
   },
   {
    "duration": 49,
    "start_time": "2023-09-20T09:32:58.364Z"
   },
   {
    "duration": 21,
    "start_time": "2023-09-20T09:32:58.415Z"
   },
   {
    "duration": 12,
    "start_time": "2023-09-20T09:32:58.438Z"
   },
   {
    "duration": 42,
    "start_time": "2023-09-20T09:32:58.452Z"
   },
   {
    "duration": 69,
    "start_time": "2023-09-20T09:32:58.496Z"
   },
   {
    "duration": 26,
    "start_time": "2023-09-20T09:32:58.568Z"
   },
   {
    "duration": 354,
    "start_time": "2023-09-20T09:32:58.596Z"
   },
   {
    "duration": 340,
    "start_time": "2023-09-20T09:32:58.952Z"
   },
   {
    "duration": 233,
    "start_time": "2023-09-20T09:32:59.301Z"
   },
   {
    "duration": 349,
    "start_time": "2023-09-20T09:32:59.536Z"
   },
   {
    "duration": 238,
    "start_time": "2023-09-20T09:32:59.888Z"
   },
   {
    "duration": 311,
    "start_time": "2023-09-20T09:33:00.128Z"
   },
   {
    "duration": 7,
    "start_time": "2023-09-20T09:33:00.441Z"
   },
   {
    "duration": 195,
    "start_time": "2023-09-20T09:33:00.449Z"
   },
   {
    "duration": 5,
    "start_time": "2023-09-20T09:33:00.646Z"
   },
   {
    "duration": 229,
    "start_time": "2023-09-20T09:33:00.653Z"
   },
   {
    "duration": 4,
    "start_time": "2023-09-20T09:33:00.885Z"
   },
   {
    "duration": 425,
    "start_time": "2023-09-20T09:33:00.891Z"
   },
   {
    "duration": 933,
    "start_time": "2023-09-20T09:33:01.318Z"
   },
   {
    "duration": 271,
    "start_time": "2023-09-20T09:33:02.253Z"
   },
   {
    "duration": 45,
    "start_time": "2023-09-20T09:33:02.526Z"
   },
   {
    "duration": 656,
    "start_time": "2023-09-20T09:33:02.573Z"
   },
   {
    "duration": 1030,
    "start_time": "2023-09-20T09:33:03.231Z"
   },
   {
    "duration": 60,
    "start_time": "2023-09-20T09:33:04.263Z"
   },
   {
    "duration": 27,
    "start_time": "2023-09-20T09:33:04.325Z"
   },
   {
    "duration": 52,
    "start_time": "2023-09-20T09:33:04.353Z"
   },
   {
    "duration": 188,
    "start_time": "2023-09-20T09:33:04.407Z"
   },
   {
    "duration": 11,
    "start_time": "2023-09-20T09:34:45.564Z"
   },
   {
    "duration": 116,
    "start_time": "2023-09-20T09:45:01.459Z"
   },
   {
    "duration": 14,
    "start_time": "2023-09-20T09:45:23.584Z"
   },
   {
    "duration": 11,
    "start_time": "2023-09-20T09:45:30.687Z"
   },
   {
    "duration": 2189,
    "start_time": "2023-09-20T09:51:25.198Z"
   },
   {
    "duration": 2017,
    "start_time": "2023-09-20T09:52:10.654Z"
   },
   {
    "duration": 166,
    "start_time": "2023-09-20T09:56:31.211Z"
   },
   {
    "duration": 163,
    "start_time": "2023-09-20T09:56:35.634Z"
   },
   {
    "duration": 316,
    "start_time": "2023-09-20T09:59:10.353Z"
   },
   {
    "duration": 234,
    "start_time": "2023-09-20T09:59:43.373Z"
   },
   {
    "duration": 483,
    "start_time": "2023-09-20T10:05:30.419Z"
   },
   {
    "duration": 29,
    "start_time": "2023-09-20T10:05:30.904Z"
   },
   {
    "duration": 270,
    "start_time": "2023-09-20T10:05:30.935Z"
   },
   {
    "duration": 62,
    "start_time": "2023-09-20T10:05:31.208Z"
   },
   {
    "duration": 65,
    "start_time": "2023-09-20T10:05:31.272Z"
   },
   {
    "duration": 45,
    "start_time": "2023-09-20T10:05:31.339Z"
   },
   {
    "duration": 56,
    "start_time": "2023-09-20T10:05:31.386Z"
   },
   {
    "duration": 871,
    "start_time": "2023-09-20T10:05:31.444Z"
   },
   {
    "duration": 63,
    "start_time": "2023-09-20T10:05:32.317Z"
   },
   {
    "duration": 17,
    "start_time": "2023-09-20T10:05:32.384Z"
   },
   {
    "duration": 42,
    "start_time": "2023-09-20T10:05:32.403Z"
   },
   {
    "duration": 68,
    "start_time": "2023-09-20T10:05:32.447Z"
   },
   {
    "duration": 95,
    "start_time": "2023-09-20T10:05:32.516Z"
   },
   {
    "duration": 379,
    "start_time": "2023-09-20T10:05:32.612Z"
   },
   {
    "duration": 51,
    "start_time": "2023-09-20T10:05:32.993Z"
   },
   {
    "duration": 58,
    "start_time": "2023-09-20T10:05:33.046Z"
   },
   {
    "duration": 48,
    "start_time": "2023-09-20T10:05:33.106Z"
   },
   {
    "duration": 314,
    "start_time": "2023-09-20T10:05:33.156Z"
   },
   {
    "duration": 329,
    "start_time": "2023-09-20T10:05:33.471Z"
   },
   {
    "duration": 226,
    "start_time": "2023-09-20T10:05:33.801Z"
   },
   {
    "duration": 332,
    "start_time": "2023-09-20T10:05:34.029Z"
   },
   {
    "duration": 245,
    "start_time": "2023-09-20T10:05:34.362Z"
   },
   {
    "duration": 299,
    "start_time": "2023-09-20T10:05:34.609Z"
   },
   {
    "duration": 312,
    "start_time": "2023-09-20T10:05:34.910Z"
   },
   {
    "duration": 8,
    "start_time": "2023-09-20T10:05:35.224Z"
   },
   {
    "duration": 154,
    "start_time": "2023-09-20T10:05:35.234Z"
   },
   {
    "duration": 4,
    "start_time": "2023-09-20T10:05:35.390Z"
   },
   {
    "duration": 188,
    "start_time": "2023-09-20T10:05:35.400Z"
   },
   {
    "duration": 5,
    "start_time": "2023-09-20T10:05:35.590Z"
   },
   {
    "duration": 244,
    "start_time": "2023-09-20T10:05:35.602Z"
   },
   {
    "duration": 140,
    "start_time": "2023-09-20T10:05:35.848Z"
   },
   {
    "duration": 37,
    "start_time": "2023-09-20T10:05:35.989Z"
   },
   {
    "duration": 34,
    "start_time": "2023-09-20T10:05:36.028Z"
   },
   {
    "duration": 45,
    "start_time": "2023-09-20T10:05:36.063Z"
   },
   {
    "duration": 138,
    "start_time": "2023-09-20T10:05:36.110Z"
   },
   {
    "duration": 59,
    "start_time": "2023-09-20T10:05:36.250Z"
   },
   {
    "duration": 45,
    "start_time": "2023-09-20T10:05:36.311Z"
   },
   {
    "duration": 219,
    "start_time": "2023-09-20T10:05:36.358Z"
   },
   {
    "duration": 173,
    "start_time": "2023-09-20T10:05:36.579Z"
   },
   {
    "duration": 165,
    "start_time": "2023-09-20T10:12:44.312Z"
   },
   {
    "duration": 42,
    "start_time": "2023-09-20T10:28:33.055Z"
   },
   {
    "duration": 484,
    "start_time": "2023-09-20T10:28:59.272Z"
   },
   {
    "duration": 28,
    "start_time": "2023-09-20T10:28:59.758Z"
   },
   {
    "duration": 16,
    "start_time": "2023-09-20T10:28:59.788Z"
   },
   {
    "duration": 45,
    "start_time": "2023-09-20T10:28:59.806Z"
   },
   {
    "duration": 64,
    "start_time": "2023-09-20T10:28:59.853Z"
   },
   {
    "duration": 56,
    "start_time": "2023-09-20T10:28:59.919Z"
   },
   {
    "duration": 38,
    "start_time": "2023-09-20T10:28:59.977Z"
   },
   {
    "duration": 868,
    "start_time": "2023-09-20T10:29:00.016Z"
   },
   {
    "duration": 63,
    "start_time": "2023-09-20T10:29:00.886Z"
   },
   {
    "duration": 46,
    "start_time": "2023-09-20T10:29:00.952Z"
   },
   {
    "duration": 92,
    "start_time": "2023-09-20T10:29:01.000Z"
   },
   {
    "duration": 59,
    "start_time": "2023-09-20T10:29:01.094Z"
   },
   {
    "duration": 110,
    "start_time": "2023-09-20T10:29:01.156Z"
   },
   {
    "duration": 307,
    "start_time": "2023-09-20T10:29:01.269Z"
   },
   {
    "duration": 282,
    "start_time": "2023-09-20T10:29:01.578Z"
   },
   {
    "duration": 194,
    "start_time": "2023-09-20T10:29:01.862Z"
   },
   {
    "duration": 99,
    "start_time": "2023-09-20T10:29:02.059Z"
   },
   {
    "duration": 402,
    "start_time": "2023-09-20T10:29:02.160Z"
   },
   {
    "duration": 310,
    "start_time": "2023-09-20T10:29:02.564Z"
   },
   {
    "duration": 281,
    "start_time": "2023-09-20T10:29:02.875Z"
   },
   {
    "duration": 373,
    "start_time": "2023-09-20T10:29:03.158Z"
   },
   {
    "duration": 254,
    "start_time": "2023-09-20T10:29:03.533Z"
   },
   {
    "duration": 343,
    "start_time": "2023-09-20T10:29:03.789Z"
   },
   {
    "duration": 7,
    "start_time": "2023-09-20T10:29:04.134Z"
   },
   {
    "duration": 161,
    "start_time": "2023-09-20T10:29:04.143Z"
   },
   {
    "duration": 7,
    "start_time": "2023-09-20T10:29:04.306Z"
   },
   {
    "duration": 188,
    "start_time": "2023-09-20T10:29:04.315Z"
   },
   {
    "duration": 191,
    "start_time": "2023-09-20T10:29:04.506Z"
   },
   {
    "duration": 6,
    "start_time": "2023-09-20T10:29:04.704Z"
   },
   {
    "duration": 89,
    "start_time": "2023-09-20T10:29:04.711Z"
   },
   {
    "duration": 159,
    "start_time": "2023-09-20T10:29:04.802Z"
   },
   {
    "duration": 49,
    "start_time": "2023-09-20T10:29:04.963Z"
   },
   {
    "duration": 13,
    "start_time": "2023-09-20T10:29:05.014Z"
   },
   {
    "duration": 45,
    "start_time": "2023-09-20T10:29:05.029Z"
   },
   {
    "duration": 156,
    "start_time": "2023-09-20T10:29:05.076Z"
   },
   {
    "duration": 261,
    "start_time": "2023-09-20T10:29:05.234Z"
   },
   {
    "duration": 138,
    "start_time": "2023-09-20T10:29:05.496Z"
   },
   {
    "duration": 51,
    "start_time": "2023-09-20T10:29:05.636Z"
   },
   {
    "duration": 145,
    "start_time": "2023-09-20T10:29:05.688Z"
   },
   {
    "duration": 6,
    "start_time": "2023-09-20T10:30:46.499Z"
   },
   {
    "duration": 4,
    "start_time": "2023-09-20T10:30:49.653Z"
   },
   {
    "duration": 6,
    "start_time": "2023-09-20T10:30:54.956Z"
   },
   {
    "duration": 5,
    "start_time": "2023-09-20T10:31:56.681Z"
   },
   {
    "duration": 4,
    "start_time": "2023-09-20T10:32:01.135Z"
   },
   {
    "duration": 165,
    "start_time": "2023-09-20T10:33:10.021Z"
   },
   {
    "duration": 77,
    "start_time": "2023-09-20T10:33:22.254Z"
   },
   {
    "duration": 93,
    "start_time": "2023-09-20T10:33:29.818Z"
   },
   {
    "duration": 113,
    "start_time": "2023-09-20T10:40:38.191Z"
   },
   {
    "duration": 81,
    "start_time": "2023-09-20T10:40:47.121Z"
   },
   {
    "duration": 135,
    "start_time": "2023-09-20T10:41:07.561Z"
   },
   {
    "duration": 126,
    "start_time": "2023-09-20T10:41:31.174Z"
   },
   {
    "duration": 7,
    "start_time": "2023-09-20T10:42:02.817Z"
   },
   {
    "duration": 6,
    "start_time": "2023-09-20T10:42:44.250Z"
   },
   {
    "duration": 6,
    "start_time": "2023-09-20T10:42:47.071Z"
   },
   {
    "duration": 433,
    "start_time": "2023-09-20T10:42:53.824Z"
   },
   {
    "duration": 27,
    "start_time": "2023-09-20T10:42:54.259Z"
   },
   {
    "duration": 18,
    "start_time": "2023-09-20T10:42:54.288Z"
   },
   {
    "duration": 21,
    "start_time": "2023-09-20T10:42:54.309Z"
   },
   {
    "duration": 29,
    "start_time": "2023-09-20T10:42:54.332Z"
   },
   {
    "duration": 28,
    "start_time": "2023-09-20T10:42:54.363Z"
   },
   {
    "duration": 14,
    "start_time": "2023-09-20T10:42:54.392Z"
   },
   {
    "duration": 811,
    "start_time": "2023-09-20T10:42:54.408Z"
   },
   {
    "duration": 52,
    "start_time": "2023-09-20T10:42:55.221Z"
   },
   {
    "duration": 27,
    "start_time": "2023-09-20T10:42:55.277Z"
   },
   {
    "duration": 40,
    "start_time": "2023-09-20T10:42:55.306Z"
   },
   {
    "duration": 60,
    "start_time": "2023-09-20T10:42:55.348Z"
   },
   {
    "duration": 40,
    "start_time": "2023-09-20T10:42:55.410Z"
   },
   {
    "duration": 44,
    "start_time": "2023-09-20T10:42:55.452Z"
   },
   {
    "duration": 32,
    "start_time": "2023-09-20T10:42:55.498Z"
   },
   {
    "duration": 52,
    "start_time": "2023-09-20T10:42:55.532Z"
   },
   {
    "duration": 35,
    "start_time": "2023-09-20T10:42:55.586Z"
   },
   {
    "duration": 319,
    "start_time": "2023-09-20T10:42:55.623Z"
   },
   {
    "duration": 330,
    "start_time": "2023-09-20T10:42:55.944Z"
   },
   {
    "duration": 241,
    "start_time": "2023-09-20T10:42:56.276Z"
   },
   {
    "duration": 326,
    "start_time": "2023-09-20T10:42:56.519Z"
   },
   {
    "duration": 257,
    "start_time": "2023-09-20T10:42:56.848Z"
   },
   {
    "duration": 330,
    "start_time": "2023-09-20T10:42:57.107Z"
   },
   {
    "duration": 7,
    "start_time": "2023-09-20T10:42:57.439Z"
   },
   {
    "duration": 182,
    "start_time": "2023-09-20T10:42:57.448Z"
   },
   {
    "duration": 4,
    "start_time": "2023-09-20T10:42:57.632Z"
   },
   {
    "duration": 212,
    "start_time": "2023-09-20T10:42:57.638Z"
   },
   {
    "duration": 165,
    "start_time": "2023-09-20T10:42:57.854Z"
   },
   {
    "duration": 5,
    "start_time": "2023-09-20T10:42:58.021Z"
   },
   {
    "duration": 50,
    "start_time": "2023-09-20T10:42:58.027Z"
   },
   {
    "duration": 209,
    "start_time": "2023-09-20T10:42:58.079Z"
   },
   {
    "duration": 32,
    "start_time": "2023-09-20T10:42:58.301Z"
   },
   {
    "duration": 11,
    "start_time": "2023-09-20T10:42:58.335Z"
   },
   {
    "duration": 25,
    "start_time": "2023-09-20T10:42:58.348Z"
   },
   {
    "duration": 29,
    "start_time": "2023-09-20T10:42:58.375Z"
   },
   {
    "duration": 31,
    "start_time": "2023-09-20T10:42:58.406Z"
   },
   {
    "duration": 20,
    "start_time": "2023-09-20T10:42:58.439Z"
   },
   {
    "duration": 34,
    "start_time": "2023-09-20T10:42:58.461Z"
   },
   {
    "duration": 17,
    "start_time": "2023-09-20T10:42:58.497Z"
   },
   {
    "duration": 4,
    "start_time": "2023-09-20T10:46:40.323Z"
   },
   {
    "duration": 6,
    "start_time": "2023-09-20T10:46:43.663Z"
   },
   {
    "duration": 395,
    "start_time": "2023-09-20T10:46:50.857Z"
   },
   {
    "duration": 28,
    "start_time": "2023-09-20T10:46:51.255Z"
   },
   {
    "duration": 31,
    "start_time": "2023-09-20T10:46:51.285Z"
   },
   {
    "duration": 39,
    "start_time": "2023-09-20T10:46:51.319Z"
   },
   {
    "duration": 86,
    "start_time": "2023-09-20T10:46:51.360Z"
   },
   {
    "duration": 56,
    "start_time": "2023-09-20T10:46:51.448Z"
   },
   {
    "duration": 105,
    "start_time": "2023-09-20T10:46:51.506Z"
   },
   {
    "duration": 894,
    "start_time": "2023-09-20T10:46:51.613Z"
   },
   {
    "duration": 68,
    "start_time": "2023-09-20T10:46:52.509Z"
   },
   {
    "duration": 10,
    "start_time": "2023-09-20T10:46:52.580Z"
   },
   {
    "duration": 74,
    "start_time": "2023-09-20T10:46:52.591Z"
   },
   {
    "duration": 79,
    "start_time": "2023-09-20T10:46:52.667Z"
   },
   {
    "duration": 38,
    "start_time": "2023-09-20T10:46:52.748Z"
   },
   {
    "duration": 73,
    "start_time": "2023-09-20T10:46:52.788Z"
   },
   {
    "duration": 43,
    "start_time": "2023-09-20T10:46:52.863Z"
   },
   {
    "duration": 58,
    "start_time": "2023-09-20T10:46:52.908Z"
   },
   {
    "duration": 84,
    "start_time": "2023-09-20T10:46:52.968Z"
   },
   {
    "duration": 340,
    "start_time": "2023-09-20T10:46:53.054Z"
   },
   {
    "duration": 332,
    "start_time": "2023-09-20T10:46:53.396Z"
   },
   {
    "duration": 232,
    "start_time": "2023-09-20T10:46:53.730Z"
   },
   {
    "duration": 371,
    "start_time": "2023-09-20T10:46:53.964Z"
   },
   {
    "duration": 291,
    "start_time": "2023-09-20T10:46:54.337Z"
   },
   {
    "duration": 342,
    "start_time": "2023-09-20T10:46:54.631Z"
   },
   {
    "duration": 7,
    "start_time": "2023-09-20T10:46:54.976Z"
   },
   {
    "duration": 194,
    "start_time": "2023-09-20T10:46:54.985Z"
   },
   {
    "duration": 5,
    "start_time": "2023-09-20T10:46:55.181Z"
   },
   {
    "duration": 186,
    "start_time": "2023-09-20T10:46:55.187Z"
   },
   {
    "duration": 174,
    "start_time": "2023-09-20T10:46:55.376Z"
   },
   {
    "duration": 4,
    "start_time": "2023-09-20T10:46:55.552Z"
   },
   {
    "duration": 79,
    "start_time": "2023-09-20T10:46:55.558Z"
   },
   {
    "duration": 216,
    "start_time": "2023-09-20T10:46:55.639Z"
   },
   {
    "duration": 46,
    "start_time": "2023-09-20T10:46:55.857Z"
   },
   {
    "duration": 12,
    "start_time": "2023-09-20T10:46:55.905Z"
   },
   {
    "duration": 24,
    "start_time": "2023-09-20T10:46:55.919Z"
   },
   {
    "duration": 35,
    "start_time": "2023-09-20T10:46:55.945Z"
   },
   {
    "duration": 107,
    "start_time": "2023-09-20T10:46:55.982Z"
   },
   {
    "duration": 64,
    "start_time": "2023-09-20T10:46:56.091Z"
   },
   {
    "duration": 54,
    "start_time": "2023-09-20T10:46:56.157Z"
   },
   {
    "duration": 35,
    "start_time": "2023-09-20T10:46:56.212Z"
   },
   {
    "duration": 9,
    "start_time": "2023-09-20T10:47:55.075Z"
   },
   {
    "duration": 8,
    "start_time": "2023-09-20T10:48:00.308Z"
   },
   {
    "duration": 16,
    "start_time": "2023-09-20T10:48:06.043Z"
   },
   {
    "duration": 403,
    "start_time": "2023-09-20T11:23:11.134Z"
   },
   {
    "duration": 28,
    "start_time": "2023-09-20T11:23:11.539Z"
   },
   {
    "duration": 67,
    "start_time": "2023-09-20T11:23:11.569Z"
   },
   {
    "duration": 71,
    "start_time": "2023-09-20T11:23:11.639Z"
   },
   {
    "duration": 107,
    "start_time": "2023-09-20T11:23:11.713Z"
   },
   {
    "duration": 52,
    "start_time": "2023-09-20T11:23:11.822Z"
   },
   {
    "duration": 46,
    "start_time": "2023-09-20T11:23:11.876Z"
   },
   {
    "duration": 756,
    "start_time": "2023-09-20T11:23:11.924Z"
   },
   {
    "duration": 63,
    "start_time": "2023-09-20T11:23:12.682Z"
   },
   {
    "duration": 8,
    "start_time": "2023-09-20T11:23:12.748Z"
   },
   {
    "duration": 29,
    "start_time": "2023-09-20T11:23:12.758Z"
   },
   {
    "duration": 41,
    "start_time": "2023-09-20T11:23:12.789Z"
   },
   {
    "duration": 21,
    "start_time": "2023-09-20T11:23:12.833Z"
   },
   {
    "duration": 20,
    "start_time": "2023-09-20T11:23:12.856Z"
   },
   {
    "duration": 30,
    "start_time": "2023-09-20T11:23:12.878Z"
   },
   {
    "duration": 54,
    "start_time": "2023-09-20T11:23:12.910Z"
   },
   {
    "duration": 44,
    "start_time": "2023-09-20T11:23:12.966Z"
   },
   {
    "duration": 371,
    "start_time": "2023-09-20T11:23:13.012Z"
   },
   {
    "duration": 318,
    "start_time": "2023-09-20T11:23:13.385Z"
   },
   {
    "duration": 231,
    "start_time": "2023-09-20T11:23:13.706Z"
   },
   {
    "duration": 316,
    "start_time": "2023-09-20T11:23:13.939Z"
   },
   {
    "duration": 261,
    "start_time": "2023-09-20T11:23:14.257Z"
   },
   {
    "duration": 347,
    "start_time": "2023-09-20T11:23:14.520Z"
   },
   {
    "duration": 7,
    "start_time": "2023-09-20T11:23:14.869Z"
   },
   {
    "duration": 212,
    "start_time": "2023-09-20T11:23:14.878Z"
   },
   {
    "duration": 12,
    "start_time": "2023-09-20T11:23:15.092Z"
   },
   {
    "duration": 402,
    "start_time": "2023-09-20T11:23:15.106Z"
   },
   {
    "duration": 614,
    "start_time": "2023-09-20T11:23:15.513Z"
   },
   {
    "duration": 5,
    "start_time": "2023-09-20T11:23:16.129Z"
   },
   {
    "duration": 227,
    "start_time": "2023-09-20T11:23:16.136Z"
   },
   {
    "duration": 245,
    "start_time": "2023-09-20T11:23:16.365Z"
   },
   {
    "duration": 32,
    "start_time": "2023-09-20T11:23:16.612Z"
   },
   {
    "duration": 219,
    "start_time": "2023-09-20T11:23:16.646Z"
   },
   {
    "duration": 24,
    "start_time": "2023-09-20T11:23:16.866Z"
   },
   {
    "duration": 16,
    "start_time": "2023-09-20T11:23:16.892Z"
   },
   {
    "duration": 10,
    "start_time": "2023-09-20T11:23:16.910Z"
   },
   {
    "duration": 17,
    "start_time": "2023-09-20T11:23:16.923Z"
   },
   {
    "duration": 36,
    "start_time": "2023-09-20T11:23:16.942Z"
   },
   {
    "duration": 15,
    "start_time": "2023-09-20T11:23:16.980Z"
   },
   {
    "duration": 424,
    "start_time": "2023-09-20T11:48:57.712Z"
   },
   {
    "duration": 28,
    "start_time": "2023-09-20T11:48:58.138Z"
   },
   {
    "duration": 69,
    "start_time": "2023-09-20T11:48:58.168Z"
   },
   {
    "duration": 273,
    "start_time": "2023-09-20T11:48:58.240Z"
   },
   {
    "duration": 42,
    "start_time": "2023-09-20T11:48:58.516Z"
   },
   {
    "duration": 85,
    "start_time": "2023-09-20T11:48:58.560Z"
   },
   {
    "duration": 413,
    "start_time": "2023-09-20T11:48:58.647Z"
   },
   {
    "duration": 1111,
    "start_time": "2023-09-20T11:48:59.063Z"
   },
   {
    "duration": 64,
    "start_time": "2023-09-20T11:49:00.175Z"
   },
   {
    "duration": 833,
    "start_time": "2023-09-20T11:49:00.242Z"
   },
   {
    "duration": 142,
    "start_time": "2023-09-20T11:49:01.077Z"
   },
   {
    "duration": 414,
    "start_time": "2023-09-20T11:49:01.221Z"
   },
   {
    "duration": 87,
    "start_time": "2023-09-20T11:49:01.637Z"
   },
   {
    "duration": 49,
    "start_time": "2023-09-20T11:49:01.726Z"
   },
   {
    "duration": 72,
    "start_time": "2023-09-20T11:49:01.777Z"
   },
   {
    "duration": 113,
    "start_time": "2023-09-20T11:49:01.851Z"
   },
   {
    "duration": 99,
    "start_time": "2023-09-20T11:49:01.966Z"
   },
   {
    "duration": 478,
    "start_time": "2023-09-20T11:49:02.067Z"
   },
   {
    "duration": 327,
    "start_time": "2023-09-20T11:49:02.547Z"
   },
   {
    "duration": 228,
    "start_time": "2023-09-20T11:49:02.876Z"
   },
   {
    "duration": 325,
    "start_time": "2023-09-20T11:49:03.105Z"
   },
   {
    "duration": 236,
    "start_time": "2023-09-20T11:49:03.431Z"
   },
   {
    "duration": 368,
    "start_time": "2023-09-20T11:49:03.669Z"
   },
   {
    "duration": 6,
    "start_time": "2023-09-20T11:49:04.039Z"
   },
   {
    "duration": 145,
    "start_time": "2023-09-20T11:49:04.047Z"
   },
   {
    "duration": 5,
    "start_time": "2023-09-20T11:49:04.200Z"
   },
   {
    "duration": 174,
    "start_time": "2023-09-20T11:49:04.207Z"
   },
   {
    "duration": 175,
    "start_time": "2023-09-20T11:49:04.385Z"
   },
   {
    "duration": 6,
    "start_time": "2023-09-20T11:49:04.562Z"
   },
   {
    "duration": 74,
    "start_time": "2023-09-20T11:49:04.570Z"
   },
   {
    "duration": 227,
    "start_time": "2023-09-20T11:49:04.647Z"
   },
   {
    "duration": 41,
    "start_time": "2023-09-20T11:49:04.877Z"
   },
   {
    "duration": 11,
    "start_time": "2023-09-20T11:49:04.921Z"
   },
   {
    "duration": 44,
    "start_time": "2023-09-20T11:49:04.934Z"
   },
   {
    "duration": 80,
    "start_time": "2023-09-20T11:49:04.980Z"
   },
   {
    "duration": 34,
    "start_time": "2023-09-20T11:49:05.061Z"
   },
   {
    "duration": 41,
    "start_time": "2023-09-20T11:49:05.096Z"
   },
   {
    "duration": 52,
    "start_time": "2023-09-20T11:49:05.138Z"
   },
   {
    "duration": 24,
    "start_time": "2023-09-20T11:49:05.192Z"
   }
  ],
  "kernelspec": {
   "display_name": "Python 3 (ipykernel)",
   "language": "python",
   "name": "python3"
  },
  "language_info": {
   "codemirror_mode": {
    "name": "ipython",
    "version": 3
   },
   "file_extension": ".py",
   "mimetype": "text/x-python",
   "name": "python",
   "nbconvert_exporter": "python",
   "pygments_lexer": "ipython3",
   "version": "3.9.5"
  },
  "toc": {
   "base_numbering": 1,
   "nav_menu": {},
   "number_sections": true,
   "sideBar": true,
   "skip_h1_title": true,
   "title_cell": "Table of Contents",
   "title_sidebar": "Contents",
   "toc_cell": false,
   "toc_position": {},
   "toc_section_display": true,
   "toc_window_display": false
  }
 },
 "nbformat": 4,
 "nbformat_minor": 2
}
